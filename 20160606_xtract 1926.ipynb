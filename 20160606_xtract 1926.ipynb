{
 "cells": [
  {
   "cell_type": "markdown",
   "metadata": {},
   "source": [
    "L'aide de Beautiful soup est ici : <https://www.crummy.com/software/BeautifulSoup/bs4/doc/>"
   ]
  },
  {
   "cell_type": "code",
   "execution_count": 1,
   "metadata": {
    "collapsed": true
   },
   "outputs": [],
   "source": [
    "from bs4 import BeautifulSoup"
   ]
  },
  {
   "cell_type": "code",
   "execution_count": 220,
   "metadata": {
    "collapsed": true
   },
   "outputs": [],
   "source": [
    "soup = BeautifulSoup(open('data_1926-1928.html', encoding='iso-8859-1'), 'html.parser')"
   ]
  },
  {
   "cell_type": "code",
   "execution_count": 221,
   "metadata": {
    "collapsed": false
   },
   "outputs": [],
   "source": [
    "spacers = soup.find_all(class_='spacer')"
   ]
  },
  {
   "cell_type": "code",
   "execution_count": 222,
   "metadata": {
    "collapsed": true
   },
   "outputs": [],
   "source": [
    "node = spacers[4]"
   ]
  },
  {
   "cell_type": "code",
   "execution_count": 223,
   "metadata": {
    "collapsed": false
   },
   "outputs": [
    {
     "data": {
      "text/plain": [
       "<div class=\"spacer\"><p style=\"text-align: left; font-weight: bold;\">Statistiques :  </p></div>"
      ]
     },
     "execution_count": 223,
     "metadata": {},
     "output_type": "execute_result"
    }
   ],
   "source": [
    "node"
   ]
  },
  {
   "cell_type": "code",
   "execution_count": 224,
   "metadata": {
    "collapsed": false
   },
   "outputs": [
    {
     "data": {
      "text/plain": [
       "1"
      ]
     },
     "execution_count": 224,
     "metadata": {},
     "output_type": "execute_result"
    }
   ],
   "source": [
    "len(node)"
   ]
  },
  {
   "cell_type": "code",
   "execution_count": 225,
   "metadata": {
    "collapsed": false
   },
   "outputs": [
    {
     "data": {
      "text/plain": [
       "[<p style=\"text-align: left; font-weight: bold;\">Statistiques :  </p>]"
      ]
     },
     "execution_count": 225,
     "metadata": {},
     "output_type": "execute_result"
    }
   ],
   "source": [
    "node.contents"
   ]
  },
  {
   "cell_type": "code",
   "execution_count": 226,
   "metadata": {
    "collapsed": false
   },
   "outputs": [
    {
     "data": {
      "text/plain": [
       "'Statistiques :\\xa0 '"
      ]
     },
     "execution_count": 226,
     "metadata": {},
     "output_type": "execute_result"
    }
   ],
   "source": [
    "node.p.text"
   ]
  },
  {
   "cell_type": "markdown",
   "metadata": {},
   "source": [
    "Vérifions pour tous les spacers :"
   ]
  },
  {
   "cell_type": "code",
   "execution_count": 227,
   "metadata": {
    "collapsed": false
   },
   "outputs": [
    {
     "data": {
      "text/plain": [
       "36"
      ]
     },
     "execution_count": 227,
     "metadata": {},
     "output_type": "execute_result"
    }
   ],
   "source": [
    "len([node.p.text for node in spacers if node.p is not None])"
   ]
  },
  {
   "cell_type": "code",
   "execution_count": 228,
   "metadata": {
    "collapsed": false
   },
   "outputs": [
    {
     "data": {
      "text/plain": [
       "36"
      ]
     },
     "execution_count": 228,
     "metadata": {},
     "output_type": "execute_result"
    }
   ],
   "source": [
    "3 * 12"
   ]
  },
  {
   "cell_type": "markdown",
   "metadata": {},
   "source": [
    "C'est suffisament régulier sur nos données de test. On a 12 valeurs par an * 3 ans."
   ]
  },
  {
   "cell_type": "code",
   "execution_count": 229,
   "metadata": {
    "collapsed": false
   },
   "outputs": [
    {
     "data": {
      "text/plain": [
       "'Ecoulement mensuel'"
      ]
     },
     "execution_count": 229,
     "metadata": {},
     "output_type": "execute_result"
    }
   ],
   "source": [
    "node.next_sibling.table.tr.text"
   ]
  },
  {
   "cell_type": "code",
   "execution_count": 230,
   "metadata": {
    "collapsed": false
   },
   "outputs": [
    {
     "data": {
      "text/plain": [
       "[<tr><td class=\"left\" colspan=\"3\" id=\"C1\"><span class=\"procedure_choix\">Maximum instantané</span></td></tr>,\n",
       " <tr><td class=\"left\" colspan=\"3\" id=\"C1\"><span class=\"procedure_choix\">Maximum instantané</span></td></tr>,\n",
       " <tr><td class=\"left\" colspan=\"3\" id=\"C1\"><span class=\"procedure_choix\">Maximum instantané</span></td></tr>,\n",
       " <tr><td class=\"left\" colspan=\"3\" id=\"C1\"><span class=\"procedure_choix\">Maximum instantané</span></td></tr>,\n",
       " <tr><td class=\"left\" colspan=\"3\" id=\"C1\"><span class=\"procedure_choix\">Maximum instantané</span></td></tr>,\n",
       " <tr><td class=\"left\" colspan=\"3\" id=\"C1\"><span class=\"procedure_choix\">Maximum instantané</span></td></tr>,\n",
       " <tr><td class=\"left\" colspan=\"3\" id=\"C1\"><span class=\"procedure_choix\">Maximum instantané</span></td></tr>,\n",
       " <tr><td class=\"left\" colspan=\"3\" id=\"C1\"><span class=\"procedure_choix\">Maximum instantané</span></td></tr>,\n",
       " <tr><td class=\"left\" colspan=\"3\" id=\"C1\"><span class=\"procedure_choix\">Maximum instantané</span></td></tr>,\n",
       " <tr><td class=\"left\" colspan=\"3\" id=\"C1\"><span class=\"procedure_choix\">Maximum instantané</span></td></tr>,\n",
       " <tr><td class=\"left\" colspan=\"3\" id=\"C1\"><span class=\"procedure_choix\">Maximum instantané</span></td></tr>,\n",
       " <tr><td class=\"left\" colspan=\"3\" id=\"C1\"><span class=\"procedure_choix\">Maximum instantané</span></td></tr>,\n",
       " <tr><td class=\"left\" colspan=\"3\" id=\"C1\"><span class=\"procedure_choix\">Maximum instantané</span></td></tr>,\n",
       " <tr><td class=\"left\" colspan=\"3\" id=\"C1\"><span class=\"procedure_choix\">Maximum instantané</span></td></tr>,\n",
       " <tr><td class=\"left\" colspan=\"3\" id=\"C1\"><span class=\"procedure_choix\">Maximum instantané</span></td></tr>,\n",
       " <tr><td class=\"left\" colspan=\"3\" id=\"C1\"><span class=\"procedure_choix\">Maximum instantané</span></td></tr>,\n",
       " <tr><td class=\"left\" colspan=\"3\" id=\"C1\"><span class=\"procedure_choix\">Maximum instantané</span></td></tr>,\n",
       " <tr><td class=\"left\" colspan=\"3\" id=\"C1\"><span class=\"procedure_choix\">Maximum instantané</span></td></tr>,\n",
       " <tr><td class=\"left\" colspan=\"3\" id=\"C1\"><span class=\"procedure_choix\">Maximum instantané</span></td></tr>,\n",
       " <tr><td class=\"left\" colspan=\"3\" id=\"C1\"><span class=\"procedure_choix\">Maximum instantané</span></td></tr>,\n",
       " <tr><td class=\"left\" colspan=\"3\" id=\"C1\"><span class=\"procedure_choix\">Maximum instantané</span></td></tr>,\n",
       " <tr><td class=\"left\" colspan=\"3\" id=\"C1\"><span class=\"procedure_choix\">Maximum instantané</span></td></tr>,\n",
       " <tr><td class=\"left\" colspan=\"3\" id=\"C1\"><span class=\"procedure_choix\">Maximum instantané</span></td></tr>,\n",
       " <tr><td class=\"left\" colspan=\"3\" id=\"C1\"><span class=\"procedure_choix\">Maximum instantané</span></td></tr>,\n",
       " <tr><td class=\"left\" colspan=\"3\" id=\"C1\"><span class=\"procedure_choix\">Maximum instantané</span></td></tr>,\n",
       " <tr><td class=\"left\" colspan=\"3\" id=\"C1\"><span class=\"procedure_choix\">Maximum instantané</span></td></tr>,\n",
       " <tr><td class=\"left\" colspan=\"3\" id=\"C1\"><span class=\"procedure_choix\">Maximum instantané</span></td></tr>,\n",
       " <tr><td class=\"left\" colspan=\"3\" id=\"C1\"><span class=\"procedure_choix\">Maximum instantané</span></td></tr>,\n",
       " <tr><td class=\"left\" colspan=\"3\" id=\"C1\"><span class=\"procedure_choix\">Maximum instantané</span></td></tr>,\n",
       " <tr><td class=\"left\" colspan=\"3\" id=\"C1\"><span class=\"procedure_choix\">Maximum instantané</span></td></tr>,\n",
       " <tr><td class=\"left\" colspan=\"3\" id=\"C1\"><span class=\"procedure_choix\">Maximum instantané</span></td></tr>,\n",
       " <tr><td class=\"left\" colspan=\"3\" id=\"C1\"><span class=\"procedure_choix\">Maximum instantané</span></td></tr>,\n",
       " <tr><td class=\"left\" colspan=\"3\" id=\"C1\"><span class=\"procedure_choix\">Maximum instantané</span></td></tr>,\n",
       " <tr><td class=\"left\" colspan=\"3\" id=\"C1\"><span class=\"procedure_choix\">Maximum instantané</span></td></tr>,\n",
       " <tr><td class=\"left\" colspan=\"3\" id=\"C1\"><span class=\"procedure_choix\">Maximum instantané</span></td></tr>,\n",
       " <tr><td class=\"left\" colspan=\"3\" id=\"C1\"><span class=\"procedure_choix\">Maximum instantané</span></td></tr>]"
      ]
     },
     "execution_count": 230,
     "metadata": {},
     "output_type": "execute_result"
    }
   ],
   "source": [
    "[node.next_sibling.table.find(text='Maximum instantané').parent.parent.parent\n",
    " for node in spacers if node.p is not None]"
   ]
  },
  {
   "cell_type": "code",
   "execution_count": 231,
   "metadata": {
    "collapsed": false
   },
   "outputs": [
    {
     "data": {
      "text/plain": [
       "<div class=\"spacer\"><p style=\"text-align: left; font-weight: bold;\">Statistiques :  </p></div>"
      ]
     },
     "execution_count": 231,
     "metadata": {},
     "output_type": "execute_result"
    }
   ],
   "source": [
    "node"
   ]
  },
  {
   "cell_type": "markdown",
   "metadata": {},
   "source": [
    "# Utilisation d'une regexp "
   ]
  },
  {
   "cell_type": "code",
   "execution_count": 232,
   "metadata": {
    "collapsed": false
   },
   "outputs": [
    {
     "data": {
      "text/plain": [
       "\"\\nEcoulement mensuel\\n\\n\\xa0\\nValidité :\\n#\\n\\n\\n\\xa0\\nDébit moyen :\\n663.0\\xa0m3/s\\n\\n\\n\\xa0\\nDébit moyen spécifique :\\n15.10\\xa0l/s/km2\\n\\n\\n\\xa0\\nLame d'eau :\\n40.5\\xa0mm\\n\\n\\xa0\\nEcoulement naturel reconstitué\\n\\n\\xa0\\nValidité :\\n#\\n\\n\\n\\xa0\\nDébit moyen :\\n663.0\\xa0m3/s\\n\\n\\n\\xa0\\nDébit moyen spécifique :\\n15.10\\xa0l/s/km2\\n\\n\\n\\xa0\\nLame d'eau :\\n40.5\\xa0mm\\n\\n\\xa0\\nMaximum instantané\\n\\n\\xa0\\nDébit :\\n863.0\\xa0m3/s\\n\\n\\n\\xa0\\nDate :\\n10/03/1926 07:00\\n\\n\\n\\xa0\\nHauteur :\\n280.0\\xa0cm\\n\\n\\n\\xa0\\nDate :\\n10/03/1926 07:00\\n\\n\""
      ]
     },
     "execution_count": 232,
     "metadata": {},
     "output_type": "execute_result"
    }
   ],
   "source": [
    "node.next_sibling.table.text"
   ]
  },
  {
   "cell_type": "code",
   "execution_count": 233,
   "metadata": {
    "collapsed": true
   },
   "outputs": [],
   "source": [
    "t = node.next_sibling.table.text"
   ]
  },
  {
   "cell_type": "code",
   "execution_count": 69,
   "metadata": {
    "collapsed": false
   },
   "outputs": [],
   "source": [
    "import re"
   ]
  },
  {
   "cell_type": "code",
   "execution_count": 250,
   "metadata": {
    "collapsed": false
   },
   "outputs": [],
   "source": [
    "pattern_cm = re.compile('Hauteur :\\n(\\d+.\\d*)\\xa0cm.+Date :\\n([\\d/: ]+)', re.DOTALL)"
   ]
  },
  {
   "cell_type": "code",
   "execution_count": 284,
   "metadata": {
    "collapsed": true
   },
   "outputs": [],
   "source": [
    "pattern_mm = re.compile('Hauteur :\\n(\\d+.\\d*)\\xa0mm.+Date :\\n([\\d/: ]+)', re.DOTALL)"
   ]
  },
  {
   "cell_type": "code",
   "execution_count": 252,
   "metadata": {
    "collapsed": false
   },
   "outputs": [
    {
     "data": {
      "text/plain": [
       "[('280.0', '10/03/1926 07:00')]"
      ]
     },
     "execution_count": 252,
     "metadata": {},
     "output_type": "execute_result"
    }
   ],
   "source": [
    "re.findall(pattern_cm, t)"
   ]
  },
  {
   "cell_type": "code",
   "execution_count": 112,
   "metadata": {
    "collapsed": false
   },
   "outputs": [
    {
     "ename": "AttributeError",
     "evalue": "'NavigableString' object has no attribute 'table'",
     "output_type": "error",
     "traceback": [
      "\u001b[1;31m---------------------------------------------------------------------------\u001b[0m",
      "\u001b[1;31mAttributeError\u001b[0m                            Traceback (most recent call last)",
      "\u001b[1;32m<ipython-input-112-a9c24c72cb8a>\u001b[0m in \u001b[0;36m<module>\u001b[1;34m()\u001b[0m\n\u001b[1;32m----> 1\u001b[1;33m \u001b[1;33m[\u001b[0m\u001b[0mre\u001b[0m\u001b[1;33m.\u001b[0m\u001b[0mfindall\u001b[0m\u001b[1;33m(\u001b[0m\u001b[0mp\u001b[0m\u001b[1;33m,\u001b[0m \u001b[0mt\u001b[0m\u001b[1;33m)\u001b[0m \u001b[1;32mfor\u001b[0m \u001b[0mt\u001b[0m \u001b[1;32min\u001b[0m \u001b[1;33m[\u001b[0m\u001b[0mnode\u001b[0m\u001b[1;33m.\u001b[0m\u001b[0mnext_sibling\u001b[0m\u001b[1;33m.\u001b[0m\u001b[0mtable\u001b[0m\u001b[1;33m.\u001b[0m\u001b[0mtext\u001b[0m \u001b[1;32mfor\u001b[0m \u001b[0mnode\u001b[0m \u001b[1;32min\u001b[0m \u001b[0mspacers\u001b[0m\u001b[1;33m]\u001b[0m \u001b[1;32mif\u001b[0m \u001b[0mt\u001b[0m \u001b[1;32mis\u001b[0m \u001b[1;32mnot\u001b[0m \u001b[1;32mNone\u001b[0m\u001b[1;33m]\u001b[0m\u001b[1;33m\u001b[0m\u001b[0m\n\u001b[0m",
      "\u001b[1;32m<ipython-input-112-a9c24c72cb8a>\u001b[0m in \u001b[0;36m<listcomp>\u001b[1;34m(.0)\u001b[0m\n\u001b[1;32m----> 1\u001b[1;33m \u001b[1;33m[\u001b[0m\u001b[0mre\u001b[0m\u001b[1;33m.\u001b[0m\u001b[0mfindall\u001b[0m\u001b[1;33m(\u001b[0m\u001b[0mp\u001b[0m\u001b[1;33m,\u001b[0m \u001b[0mt\u001b[0m\u001b[1;33m)\u001b[0m \u001b[1;32mfor\u001b[0m \u001b[0mt\u001b[0m \u001b[1;32min\u001b[0m \u001b[1;33m[\u001b[0m\u001b[0mnode\u001b[0m\u001b[1;33m.\u001b[0m\u001b[0mnext_sibling\u001b[0m\u001b[1;33m.\u001b[0m\u001b[0mtable\u001b[0m\u001b[1;33m.\u001b[0m\u001b[0mtext\u001b[0m \u001b[1;32mfor\u001b[0m \u001b[0mnode\u001b[0m \u001b[1;32min\u001b[0m \u001b[0mspacers\u001b[0m\u001b[1;33m]\u001b[0m \u001b[1;32mif\u001b[0m \u001b[0mt\u001b[0m \u001b[1;32mis\u001b[0m \u001b[1;32mnot\u001b[0m \u001b[1;32mNone\u001b[0m\u001b[1;33m]\u001b[0m\u001b[1;33m\u001b[0m\u001b[0m\n\u001b[0m",
      "\u001b[1;32mC:\\Anaconda3\\lib\\site-packages\\bs4\\element.py\u001b[0m in \u001b[0;36m__getattr__\u001b[1;34m(self, attr)\u001b[0m\n\u001b[0;32m    711\u001b[0m             raise AttributeError(\n\u001b[0;32m    712\u001b[0m                 \"'%s' object has no attribute '%s'\" % (\n\u001b[1;32m--> 713\u001b[1;33m                     self.__class__.__name__, attr))\n\u001b[0m\u001b[0;32m    714\u001b[0m \u001b[1;33m\u001b[0m\u001b[0m\n\u001b[0;32m    715\u001b[0m     \u001b[1;32mdef\u001b[0m \u001b[0moutput_ready\u001b[0m\u001b[1;33m(\u001b[0m\u001b[0mself\u001b[0m\u001b[1;33m,\u001b[0m \u001b[0mformatter\u001b[0m\u001b[1;33m=\u001b[0m\u001b[1;34m\"minimal\"\u001b[0m\u001b[1;33m)\u001b[0m\u001b[1;33m:\u001b[0m\u001b[1;33m\u001b[0m\u001b[0m\n",
      "\u001b[1;31mAttributeError\u001b[0m: 'NavigableString' object has no attribute 'table'"
     ]
    }
   ],
   "source": [
    "[re.findall(p, t) for t in [node.next_sibling.table.text for node in spacers] if t is not None]"
   ]
  },
  {
   "cell_type": "code",
   "execution_count": 133,
   "metadata": {
    "collapsed": false
   },
   "outputs": [
    {
     "name": "stdout",
     "output_type": "stream",
     "text": [
      "<div class=\"spacer\"></div>\n",
      "<div class=\"spacer\"> </div>\n"
     ]
    },
    {
     "ename": "AttributeError",
     "evalue": "'NavigableString' object has no attribute 'table'",
     "output_type": "error",
     "traceback": [
      "\u001b[1;31m---------------------------------------------------------------------------\u001b[0m",
      "\u001b[1;31mAttributeError\u001b[0m                            Traceback (most recent call last)",
      "\u001b[1;32m<ipython-input-133-1df900771daa>\u001b[0m in \u001b[0;36m<module>\u001b[1;34m()\u001b[0m\n\u001b[0;32m      2\u001b[0m     \u001b[0mprint\u001b[0m\u001b[1;33m(\u001b[0m\u001b[0mnode\u001b[0m\u001b[1;33m)\u001b[0m\u001b[1;33m\u001b[0m\u001b[0m\n\u001b[0;32m      3\u001b[0m     \u001b[1;32mif\u001b[0m \u001b[0mlen\u001b[0m\u001b[1;33m(\u001b[0m\u001b[0mlist\u001b[0m\u001b[1;33m(\u001b[0m\u001b[0mnode\u001b[0m\u001b[1;33m.\u001b[0m\u001b[0mchildren\u001b[0m\u001b[1;33m)\u001b[0m\u001b[1;33m)\u001b[0m \u001b[1;33m>\u001b[0m \u001b[1;36m0\u001b[0m\u001b[1;33m:\u001b[0m\u001b[1;33m\u001b[0m\u001b[0m\n\u001b[1;32m----> 4\u001b[1;33m         \u001b[1;32mif\u001b[0m \u001b[0mnode\u001b[0m\u001b[1;33m.\u001b[0m\u001b[0mnext_sibling\u001b[0m\u001b[1;33m.\u001b[0m\u001b[0mtable\u001b[0m \u001b[1;32mis\u001b[0m \u001b[1;32mnot\u001b[0m \u001b[1;32mNone\u001b[0m\u001b[1;33m:\u001b[0m\u001b[1;33m\u001b[0m\u001b[0m\n\u001b[0m\u001b[0;32m      5\u001b[0m             \u001b[0mt\u001b[0m \u001b[1;33m=\u001b[0m \u001b[0mnode\u001b[0m\u001b[1;33m.\u001b[0m\u001b[0mnext_sibling\u001b[0m\u001b[1;33m.\u001b[0m\u001b[0mtable\u001b[0m\u001b[1;33m.\u001b[0m\u001b[0mtext\u001b[0m\u001b[1;33m\u001b[0m\u001b[0m\n\u001b[0;32m      6\u001b[0m             \u001b[0mprint\u001b[0m\u001b[1;33m(\u001b[0m\u001b[0mre\u001b[0m\u001b[1;33m.\u001b[0m\u001b[0mfindall\u001b[0m\u001b[1;33m(\u001b[0m\u001b[0mp\u001b[0m\u001b[1;33m,\u001b[0m \u001b[0mt\u001b[0m\u001b[1;33m)\u001b[0m\u001b[1;33m)\u001b[0m\u001b[1;33m\u001b[0m\u001b[0m\n",
      "\u001b[1;32mC:\\Anaconda3\\lib\\site-packages\\bs4\\element.py\u001b[0m in \u001b[0;36m__getattr__\u001b[1;34m(self, attr)\u001b[0m\n\u001b[0;32m    711\u001b[0m             raise AttributeError(\n\u001b[0;32m    712\u001b[0m                 \"'%s' object has no attribute '%s'\" % (\n\u001b[1;32m--> 713\u001b[1;33m                     self.__class__.__name__, attr))\n\u001b[0m\u001b[0;32m    714\u001b[0m \u001b[1;33m\u001b[0m\u001b[0m\n\u001b[0;32m    715\u001b[0m     \u001b[1;32mdef\u001b[0m \u001b[0moutput_ready\u001b[0m\u001b[1;33m(\u001b[0m\u001b[0mself\u001b[0m\u001b[1;33m,\u001b[0m \u001b[0mformatter\u001b[0m\u001b[1;33m=\u001b[0m\u001b[1;34m\"minimal\"\u001b[0m\u001b[1;33m)\u001b[0m\u001b[1;33m:\u001b[0m\u001b[1;33m\u001b[0m\u001b[0m\n",
      "\u001b[1;31mAttributeError\u001b[0m: 'NavigableString' object has no attribute 'table'"
     ]
    }
   ],
   "source": [
    "for node in spacers:\n",
    "    print(node)\n",
    "    if len(list(node.children)) > 0:\n",
    "        if node.next_sibling.table is not None:\n",
    "            t = node.next_sibling.table.text\n",
    "            print(re.findall(p, t))"
   ]
  },
  {
   "cell_type": "code",
   "execution_count": 132,
   "metadata": {
    "collapsed": false
   },
   "outputs": [
    {
     "data": {
      "text/plain": [
       "['\\xa0']"
      ]
     },
     "execution_count": 132,
     "metadata": {},
     "output_type": "execute_result"
    }
   ],
   "source": [
    "list(node.children)"
   ]
  },
  {
   "cell_type": "code",
   "execution_count": 125,
   "metadata": {
    "collapsed": false
   },
   "outputs": [
    {
     "ename": "TypeError",
     "evalue": "object of type 'list_iterator' has no len()",
     "output_type": "error",
     "traceback": [
      "\u001b[1;31m---------------------------------------------------------------------------\u001b[0m",
      "\u001b[1;31mTypeError\u001b[0m                                 Traceback (most recent call last)",
      "\u001b[1;32m<ipython-input-125-93c45577e4a4>\u001b[0m in \u001b[0;36m<module>\u001b[1;34m()\u001b[0m\n\u001b[1;32m----> 1\u001b[1;33m \u001b[0mlen\u001b[0m\u001b[1;33m(\u001b[0m\u001b[0mnode\u001b[0m\u001b[1;33m.\u001b[0m\u001b[0mchildren\u001b[0m\u001b[1;33m)\u001b[0m\u001b[1;33m\u001b[0m\u001b[0m\n\u001b[0m",
      "\u001b[1;31mTypeError\u001b[0m: object of type 'list_iterator' has no len()"
     ]
    }
   ],
   "source": [
    "len(node.children)"
   ]
  },
  {
   "cell_type": "markdown",
   "metadata": {},
   "source": [
    "# On cherche les tables "
   ]
  },
  {
   "cell_type": "code",
   "execution_count": 160,
   "metadata": {
    "collapsed": false
   },
   "outputs": [],
   "source": [
    "table = soup.find_all('table', class_='statistiques')[1]"
   ]
  },
  {
   "cell_type": "markdown",
   "metadata": {},
   "source": [
    "## Filtrage mensuel "
   ]
  },
  {
   "cell_type": "markdown",
   "metadata": {},
   "source": [
    "On prend la table si elle est liée au mois (donc débits journaliers) :"
   ]
  },
  {
   "cell_type": "code",
   "execution_count": 174,
   "metadata": {
    "collapsed": true
   },
   "outputs": [],
   "source": [
    "def is_monthly(table):\n",
    "    \"Returns True if monthly data table.\"\n",
    "    cap = table.find('caption')\n",
    "    if cap is None:\n",
    "        label = table.find(class_='procedure_choix')\n",
    "        if label is not None:\n",
    "            return label.text == 'Ecoulement mensuel'\n",
    "        else:\n",
    "            return False\n",
    "    else:\n",
    "        return False"
   ]
  },
  {
   "cell_type": "code",
   "execution_count": 175,
   "metadata": {
    "collapsed": false
   },
   "outputs": [
    {
     "data": {
      "text/plain": [
       "<table class=\"statistiques\" width=\"42%\"><tbody>\n",
       "<tr><td class=\"left\" colspan=\"3\" id=\"C1\"><span class=\"procedure_choix\">Ecoulement annuel</span></td></tr>\n",
       "<tr>\n",
       "<td class=\"left\" id=\"C1\"> </td>\n",
       "<td class=\"left\" id=\"C2\" style=\"text-align:left;border-color:#FFFFFF;font-size:1em;\" width=\"40%\">Débit moyen :</td>\n",
       "<td class=\"left\" id=\"C3\" style=\"text-align:left;border-color:#FFFFFF;font-size:1em;\" width=\"50%\">441.0 m3/s</td>\n",
       "</tr>\n",
       "<tr>\n",
       "<td class=\"left\" id=\"C1\"> </td>\n",
       "<td class=\"left\" id=\"C2\" style=\"text-align:left;border-color:#FFFFFF;font-size:1em;\" width=\"40%\">Débit moyen spécifique :</td>\n",
       "<td class=\"left\" id=\"C3\" style=\"text-align:left;border-color:#FFFFFF;font-size:1em;\" width=\"50%\">10.10 l/s/km2</td>\n",
       "</tr>\n",
       "<tr>\n",
       "<td class=\"left\" id=\"C1\"> </td>\n",
       "<td class=\"left\" id=\"C2\" style=\"text-align:left;border-color:#FFFFFF;font-size:1em;\" width=\"40%\">Lame d'eau :</td>\n",
       "<td class=\"left\" id=\"C3\" style=\"text-align:left;border-color:#FFFFFF;font-size:1em;\" width=\"50%\">318.0 mm</td>\n",
       "</tr>\n",
       "<tr><td class=\"left\" colspan=\"3\" id=\"C1\"> </td></tr>\n",
       "<tr><td class=\"left\" colspan=\"3\" id=\"C1\"><span class=\"procedure_choix\">Ecoulement naturel reconstitué</span></td></tr>\n",
       "<tr>\n",
       "<td class=\"left\" id=\"C1\"> </td>\n",
       "<td class=\"left\" id=\"C2\" style=\"text-align:left;border-color:#FFFFFF;font-size:1em;\" width=\"30%\">Débit moyen :</td>\n",
       "<td class=\"left\" id=\"C3\" style=\"text-align:left;border-color:#FFFFFF;font-size:1em;\" width=\"50%\">441.0 m3/s</td>\n",
       "</tr>\n",
       "<tr>\n",
       "<td class=\"left\" id=\"C1\"> </td>\n",
       "<td class=\"left\" id=\"C2\" style=\"text-align:left;border-color:#FFFFFF;font-size:1em;\" width=\"30%\">Débit moyen spécifique :</td>\n",
       "<td class=\"left\" id=\"C3\" style=\"text-align:left;border-color:#FFFFFF;font-size:1em;\" width=\"50%\">10.10 l/s/km2</td>\n",
       "</tr>\n",
       "<tr>\n",
       "<td class=\"left\" id=\"C1\"> </td>\n",
       "<td class=\"left\" id=\"C2\" style=\"text-align:left;border-color:#FFFFFF;font-size:1em;\" width=\"30%\">Lame d'eau :</td>\n",
       "<td class=\"left\" id=\"C3\" style=\"text-align:left;border-color:#FFFFFF;font-size:1em;\" width=\"50%\">318.0 mm</td>\n",
       "</tr>\n",
       "<tr><td class=\"left\" colspan=\"3\" id=\"C1\"> </td></tr>\n",
       "<tr><td class=\"left\" colspan=\"3\" id=\"C1\"><span class=\"procedure_choix\">Maximum instantané</span></td></tr>\n",
       "<tr>\n",
       "<td class=\"left\" id=\"C1\"> </td>\n",
       "<td class=\"left\" id=\"C2\" style=\"text-align:left;border-color:#FFFFFF;font-size:1em;\" width=\"30%\">Débit :</td>\n",
       "<td class=\"left\" id=\"C3\" style=\"text-align:left;border-color:#FFFFFF;font-size:1em;\" width=\"50%\">1740.0 m3/s</td>\n",
       "</tr>\n",
       "<tr>\n",
       "<td class=\"left\" id=\"C1\"> </td>\n",
       "<td class=\"left\" id=\"C2\" style=\"text-align:left;border-color:#FFFFFF;font-size:1em;\" width=\"30%\">Validité :</td>\n",
       "<td class=\"left\" id=\"C3\" style=\"text-align:left;border-color:#FFFFFF;font-size:1em;\" width=\"50%\">#</td>\n",
       "</tr>\n",
       "<tr>\n",
       "<td class=\"left\" id=\"C1\"> </td>\n",
       "<td class=\"left\" id=\"C2\" style=\"text-align:left;border-color:#FFFFFF;font-size:1em;\" width=\"30%\">Date :</td>\n",
       "<td class=\"left\" id=\"C3\" style=\"text-align:left;border-color:#FFFFFF;font-size:1em;\" width=\"50%\">08/01/1926 07:00</td>\n",
       "</tr>\n",
       "<tr>\n",
       "<td class=\"left\" id=\"C1\"> </td>\n",
       "<td class=\"left\" id=\"C2\" style=\"text-align:left;border-color:#FFFFFF;font-size:1em;\" width=\"30%\">Hauteur :</td>\n",
       "<td class=\"left\" id=\"C3\" style=\"text-align:left;border-color:#FFFFFF;font-size:1em;\" width=\"50%\">602.0 cm</td>\n",
       "</tr>\n",
       "<tr>\n",
       "<td class=\"left\" id=\"C1\"> </td>\n",
       "<td class=\"left\" id=\"C2\" style=\"text-align:left;border-color:#FFFFFF;font-size:1em;\" width=\"30%\">Date :</td>\n",
       "<td class=\"left\" id=\"C3\" style=\"text-align:left;border-color:#FFFFFF;font-size:1em;\" width=\"50%\">08/01/1926 07:00</td>\n",
       "</tr>\n",
       "</tbody></table>"
      ]
     },
     "execution_count": 175,
     "metadata": {},
     "output_type": "execute_result"
    }
   ],
   "source": [
    "table = soup.find_all('table', class_='statistiques')[1]\n",
    "table"
   ]
  },
  {
   "cell_type": "code",
   "execution_count": 176,
   "metadata": {
    "collapsed": false
   },
   "outputs": [
    {
     "data": {
      "text/plain": [
       "'Ecoulement annuel'"
      ]
     },
     "execution_count": 176,
     "metadata": {},
     "output_type": "execute_result"
    }
   ],
   "source": [
    "table.find(class_='procedure_choix').text"
   ]
  },
  {
   "cell_type": "code",
   "execution_count": 177,
   "metadata": {
    "collapsed": false
   },
   "outputs": [
    {
     "data": {
      "text/plain": [
       "False"
      ]
     },
     "execution_count": 177,
     "metadata": {},
     "output_type": "execute_result"
    }
   ],
   "source": [
    "is_monthly(table)"
   ]
  },
  {
   "cell_type": "code",
   "execution_count": 178,
   "metadata": {
    "collapsed": false
   },
   "outputs": [
    {
     "name": "stdout",
     "output_type": "stream",
     "text": [
      "False\n",
      "False\n",
      "True\n",
      "True\n",
      "True\n",
      "True\n",
      "True\n",
      "True\n",
      "True\n",
      "True\n",
      "True\n",
      "True\n",
      "True\n",
      "True\n",
      "False\n",
      "False\n",
      "True\n",
      "True\n",
      "True\n",
      "True\n",
      "True\n",
      "True\n",
      "True\n",
      "True\n",
      "True\n",
      "True\n",
      "True\n",
      "True\n",
      "False\n",
      "False\n",
      "True\n",
      "True\n",
      "True\n",
      "True\n",
      "True\n",
      "True\n",
      "True\n",
      "True\n",
      "True\n",
      "True\n",
      "True\n",
      "True\n"
     ]
    }
   ],
   "source": [
    "for table in soup.find_all('table', class_='statistiques'):\n",
    "    print(is_monthly(table))"
   ]
  },
  {
   "cell_type": "markdown",
   "metadata": {},
   "source": [
    "## Extraction donnée "
   ]
  },
  {
   "cell_type": "markdown",
   "metadata": {},
   "source": [
    "On sait qu'on a une table mensuelle, mais on n'est pas sûr des données qu'elle contient."
   ]
  },
  {
   "cell_type": "code",
   "execution_count": 297,
   "metadata": {
    "collapsed": true
   },
   "outputs": [],
   "source": [
    "def extract_height_date(soup):\n",
    "    \"Extracts height (in cm) and date from soup.\"\n",
    "    pattern_cm = re.compile('Hauteur :\\n(\\d+.\\d*)\\xa0cm.+Date :\\n([\\d/: ]+)', re.DOTALL)\n",
    "    pattern_mm = re.compile('Hauteur :\\n(\\d+.\\d*).*mm.+Date :\\n([\\d/: ]+)', re.DOTALL)\n",
    "    res = re.findall(pattern_cm, soup.text)\n",
    "    if len(res) > 0:\n",
    "        # assume it was cm\n",
    "        return res\n",
    "    else:\n",
    "        # assume it was mm\n",
    "        res = re.findall(pattern_mm, soup.text)\n",
    "        return res"
   ]
  },
  {
   "cell_type": "code",
   "execution_count": 276,
   "metadata": {
    "collapsed": false
   },
   "outputs": [],
   "source": [
    "data = []\n",
    "for table in soup.find_all('table', class_='statistiques'):\n",
    "    if is_monthly(table):\n",
    "        data.append(*re.findall(p, table.text))"
   ]
  },
  {
   "cell_type": "code",
   "execution_count": 277,
   "metadata": {
    "collapsed": true
   },
   "outputs": [],
   "source": [
    "import pandas as pd"
   ]
  },
  {
   "cell_type": "code",
   "execution_count": 246,
   "metadata": {
    "collapsed": true
   },
   "outputs": [],
   "source": [
    "def parse_dates(df):\n",
    "    df = df.copy()\n",
    "    df['date'] = pd.to_datetime(df['date'])\n",
    "    return df"
   ]
  },
  {
   "cell_type": "code",
   "execution_count": 247,
   "metadata": {
    "collapsed": true
   },
   "outputs": [],
   "source": [
    "def make_numeric(df):\n",
    "    df = df.copy()\n",
    "    df['hauteur'] = [float(val.replace(',', '.')) for val in df['hauteur']]\n",
    "    return df"
   ]
  },
  {
   "cell_type": "code",
   "execution_count": 248,
   "metadata": {
    "collapsed": false
   },
   "outputs": [],
   "source": [
    "df = pd.DataFrame(data, columns=['hauteur', 'date']).pipe(parse_dates).pipe(make_numeric).set_index('date')"
   ]
  },
  {
   "cell_type": "code",
   "execution_count": 249,
   "metadata": {
    "collapsed": false
   },
   "outputs": [
    {
     "data": {
      "text/html": [
       "<div>\n",
       "<table border=\"1\" class=\"dataframe\">\n",
       "  <thead>\n",
       "    <tr style=\"text-align: right;\">\n",
       "      <th></th>\n",
       "      <th>hauteur</th>\n",
       "    </tr>\n",
       "    <tr>\n",
       "      <th>date</th>\n",
       "      <th></th>\n",
       "    </tr>\n",
       "  </thead>\n",
       "  <tbody>\n",
       "    <tr>\n",
       "      <th>1926-08-01 07:00:00</th>\n",
       "      <td>602.0</td>\n",
       "    </tr>\n",
       "    <tr>\n",
       "      <th>1926-07-02 07:00:00</th>\n",
       "      <td>365.0</td>\n",
       "    </tr>\n",
       "    <tr>\n",
       "      <th>1926-10-03 07:00:00</th>\n",
       "      <td>280.0</td>\n",
       "    </tr>\n",
       "    <tr>\n",
       "      <th>1926-04-28 07:00:00</th>\n",
       "      <td>171.0</td>\n",
       "    </tr>\n",
       "    <tr>\n",
       "      <th>1926-05-22 07:00:00</th>\n",
       "      <td>350.0</td>\n",
       "    </tr>\n",
       "    <tr>\n",
       "      <th>1926-06-18 07:00:00</th>\n",
       "      <td>320.0</td>\n",
       "    </tr>\n",
       "    <tr>\n",
       "      <th>1926-01-07 00:01:00</th>\n",
       "      <td>176.0</td>\n",
       "    </tr>\n",
       "    <tr>\n",
       "      <th>1926-02-08 07:00:00</th>\n",
       "      <td>112.0</td>\n",
       "    </tr>\n",
       "    <tr>\n",
       "      <th>1926-09-25 07:00:00</th>\n",
       "      <td>96.0</td>\n",
       "    </tr>\n",
       "    <tr>\n",
       "      <th>1926-10-31 07:00:00</th>\n",
       "      <td>110.0</td>\n",
       "    </tr>\n",
       "    <tr>\n",
       "      <th>1926-09-11 07:00:00</th>\n",
       "      <td>138.0</td>\n",
       "    </tr>\n",
       "    <tr>\n",
       "      <th>1926-03-12 07:00:00</th>\n",
       "      <td>150.0</td>\n",
       "    </tr>\n",
       "    <tr>\n",
       "      <th>1927-01-25 07:00:00</th>\n",
       "      <td>260.0</td>\n",
       "    </tr>\n",
       "    <tr>\n",
       "      <th>1927-02-28 23:59:00</th>\n",
       "      <td>299.0</td>\n",
       "    </tr>\n",
       "    <tr>\n",
       "      <th>1927-12-03 07:00:00</th>\n",
       "      <td>400.0</td>\n",
       "    </tr>\n",
       "    <tr>\n",
       "      <th>1927-08-04 07:00:00</th>\n",
       "      <td>278.0</td>\n",
       "    </tr>\n",
       "    <tr>\n",
       "      <th>1927-08-05 07:00:00</th>\n",
       "      <td>156.0</td>\n",
       "    </tr>\n",
       "    <tr>\n",
       "      <th>1927-04-06 07:00:00</th>\n",
       "      <td>112.0</td>\n",
       "    </tr>\n",
       "    <tr>\n",
       "      <th>1927-12-07 07:00:00</th>\n",
       "      <td>167.0</td>\n",
       "    </tr>\n",
       "    <tr>\n",
       "      <th>1927-08-29 07:00:00</th>\n",
       "      <td>104.0</td>\n",
       "    </tr>\n",
       "    <tr>\n",
       "      <th>1927-09-29 07:00:00</th>\n",
       "      <td>166.0</td>\n",
       "    </tr>\n",
       "    <tr>\n",
       "      <th>1927-01-10 00:01:00</th>\n",
       "      <td>140.0</td>\n",
       "    </tr>\n",
       "    <tr>\n",
       "      <th>1927-11-14 07:00:00</th>\n",
       "      <td>236.0</td>\n",
       "    </tr>\n",
       "    <tr>\n",
       "      <th>1927-12-27 07:00:00</th>\n",
       "      <td>215.0</td>\n",
       "    </tr>\n",
       "    <tr>\n",
       "      <th>1928-01-21 07:00:00</th>\n",
       "      <td>270.0</td>\n",
       "    </tr>\n",
       "    <tr>\n",
       "      <th>1928-02-17 07:00:00</th>\n",
       "      <td>439.0</td>\n",
       "    </tr>\n",
       "    <tr>\n",
       "      <th>1928-01-03 00:01:00</th>\n",
       "      <td>247.0</td>\n",
       "    </tr>\n",
       "    <tr>\n",
       "      <th>1928-04-20 07:00:00</th>\n",
       "      <td>230.0</td>\n",
       "    </tr>\n",
       "    <tr>\n",
       "      <th>1928-08-05 07:00:00</th>\n",
       "      <td>266.0</td>\n",
       "    </tr>\n",
       "    <tr>\n",
       "      <th>1928-08-06 07:00:00</th>\n",
       "      <td>158.0</td>\n",
       "    </tr>\n",
       "    <tr>\n",
       "      <th>1928-05-07 07:00:00</th>\n",
       "      <td>110.0</td>\n",
       "    </tr>\n",
       "    <tr>\n",
       "      <th>1928-02-08 07:00:00</th>\n",
       "      <td>134.0</td>\n",
       "    </tr>\n",
       "    <tr>\n",
       "      <th>1928-04-09 07:00:00</th>\n",
       "      <td>104.0</td>\n",
       "    </tr>\n",
       "    <tr>\n",
       "      <th>1928-10-29 07:00:00</th>\n",
       "      <td>110.0</td>\n",
       "    </tr>\n",
       "    <tr>\n",
       "      <th>1928-11-30 23:59:00</th>\n",
       "      <td>300.0</td>\n",
       "    </tr>\n",
       "    <tr>\n",
       "      <th>1928-06-12 07:00:00</th>\n",
       "      <td>312.0</td>\n",
       "    </tr>\n",
       "  </tbody>\n",
       "</table>\n",
       "</div>"
      ],
      "text/plain": [
       "                     hauteur\n",
       "date                        \n",
       "1926-08-01 07:00:00    602.0\n",
       "1926-07-02 07:00:00    365.0\n",
       "1926-10-03 07:00:00    280.0\n",
       "1926-04-28 07:00:00    171.0\n",
       "1926-05-22 07:00:00    350.0\n",
       "1926-06-18 07:00:00    320.0\n",
       "1926-01-07 00:01:00    176.0\n",
       "1926-02-08 07:00:00    112.0\n",
       "1926-09-25 07:00:00     96.0\n",
       "1926-10-31 07:00:00    110.0\n",
       "1926-09-11 07:00:00    138.0\n",
       "1926-03-12 07:00:00    150.0\n",
       "1927-01-25 07:00:00    260.0\n",
       "1927-02-28 23:59:00    299.0\n",
       "1927-12-03 07:00:00    400.0\n",
       "1927-08-04 07:00:00    278.0\n",
       "1927-08-05 07:00:00    156.0\n",
       "1927-04-06 07:00:00    112.0\n",
       "1927-12-07 07:00:00    167.0\n",
       "1927-08-29 07:00:00    104.0\n",
       "1927-09-29 07:00:00    166.0\n",
       "1927-01-10 00:01:00    140.0\n",
       "1927-11-14 07:00:00    236.0\n",
       "1927-12-27 07:00:00    215.0\n",
       "1928-01-21 07:00:00    270.0\n",
       "1928-02-17 07:00:00    439.0\n",
       "1928-01-03 00:01:00    247.0\n",
       "1928-04-20 07:00:00    230.0\n",
       "1928-08-05 07:00:00    266.0\n",
       "1928-08-06 07:00:00    158.0\n",
       "1928-05-07 07:00:00    110.0\n",
       "1928-02-08 07:00:00    134.0\n",
       "1928-04-09 07:00:00    104.0\n",
       "1928-10-29 07:00:00    110.0\n",
       "1928-11-30 23:59:00    300.0\n",
       "1928-06-12 07:00:00    312.0"
      ]
     },
     "execution_count": 249,
     "metadata": {},
     "output_type": "execute_result"
    }
   ],
   "source": [
    "df"
   ]
  },
  {
   "cell_type": "code",
   "execution_count": 209,
   "metadata": {
    "collapsed": true
   },
   "outputs": [],
   "source": [
    "%matplotlib notebook"
   ]
  },
  {
   "cell_type": "code",
   "execution_count": 210,
   "metadata": {
    "collapsed": true
   },
   "outputs": [],
   "source": [
    "import matplotlib.pyplot as plt"
   ]
  },
  {
   "cell_type": "code",
   "execution_count": 212,
   "metadata": {
    "collapsed": false
   },
   "outputs": [
    {
     "data": {
      "application/javascript": [
       "/* Put everything inside the global mpl namespace */\n",
       "window.mpl = {};\n",
       "\n",
       "mpl.get_websocket_type = function() {\n",
       "    if (typeof(WebSocket) !== 'undefined') {\n",
       "        return WebSocket;\n",
       "    } else if (typeof(MozWebSocket) !== 'undefined') {\n",
       "        return MozWebSocket;\n",
       "    } else {\n",
       "        alert('Your browser does not have WebSocket support.' +\n",
       "              'Please try Chrome, Safari or Firefox ≥ 6. ' +\n",
       "              'Firefox 4 and 5 are also supported but you ' +\n",
       "              'have to enable WebSockets in about:config.');\n",
       "    };\n",
       "}\n",
       "\n",
       "mpl.figure = function(figure_id, websocket, ondownload, parent_element) {\n",
       "    this.id = figure_id;\n",
       "\n",
       "    this.ws = websocket;\n",
       "\n",
       "    this.supports_binary = (this.ws.binaryType != undefined);\n",
       "\n",
       "    if (!this.supports_binary) {\n",
       "        var warnings = document.getElementById(\"mpl-warnings\");\n",
       "        if (warnings) {\n",
       "            warnings.style.display = 'block';\n",
       "            warnings.textContent = (\n",
       "                \"This browser does not support binary websocket messages. \" +\n",
       "                    \"Performance may be slow.\");\n",
       "        }\n",
       "    }\n",
       "\n",
       "    this.imageObj = new Image();\n",
       "\n",
       "    this.context = undefined;\n",
       "    this.message = undefined;\n",
       "    this.canvas = undefined;\n",
       "    this.rubberband_canvas = undefined;\n",
       "    this.rubberband_context = undefined;\n",
       "    this.format_dropdown = undefined;\n",
       "\n",
       "    this.image_mode = 'full';\n",
       "\n",
       "    this.root = $('<div/>');\n",
       "    this._root_extra_style(this.root)\n",
       "    this.root.attr('style', 'display: inline-block');\n",
       "\n",
       "    $(parent_element).append(this.root);\n",
       "\n",
       "    this._init_header(this);\n",
       "    this._init_canvas(this);\n",
       "    this._init_toolbar(this);\n",
       "\n",
       "    var fig = this;\n",
       "\n",
       "    this.waiting = false;\n",
       "\n",
       "    this.ws.onopen =  function () {\n",
       "            fig.send_message(\"supports_binary\", {value: fig.supports_binary});\n",
       "            fig.send_message(\"send_image_mode\", {});\n",
       "            fig.send_message(\"refresh\", {});\n",
       "        }\n",
       "\n",
       "    this.imageObj.onload = function() {\n",
       "            if (fig.image_mode == 'full') {\n",
       "                // Full images could contain transparency (where diff images\n",
       "                // almost always do), so we need to clear the canvas so that\n",
       "                // there is no ghosting.\n",
       "                fig.context.clearRect(0, 0, fig.canvas.width, fig.canvas.height);\n",
       "            }\n",
       "            fig.context.drawImage(fig.imageObj, 0, 0);\n",
       "        };\n",
       "\n",
       "    this.imageObj.onunload = function() {\n",
       "        this.ws.close();\n",
       "    }\n",
       "\n",
       "    this.ws.onmessage = this._make_on_message_function(this);\n",
       "\n",
       "    this.ondownload = ondownload;\n",
       "}\n",
       "\n",
       "mpl.figure.prototype._init_header = function() {\n",
       "    var titlebar = $(\n",
       "        '<div class=\"ui-dialog-titlebar ui-widget-header ui-corner-all ' +\n",
       "        'ui-helper-clearfix\"/>');\n",
       "    var titletext = $(\n",
       "        '<div class=\"ui-dialog-title\" style=\"width: 100%; ' +\n",
       "        'text-align: center; padding: 3px;\"/>');\n",
       "    titlebar.append(titletext)\n",
       "    this.root.append(titlebar);\n",
       "    this.header = titletext[0];\n",
       "}\n",
       "\n",
       "\n",
       "\n",
       "mpl.figure.prototype._canvas_extra_style = function(canvas_div) {\n",
       "\n",
       "}\n",
       "\n",
       "\n",
       "mpl.figure.prototype._root_extra_style = function(canvas_div) {\n",
       "\n",
       "}\n",
       "\n",
       "mpl.figure.prototype._init_canvas = function() {\n",
       "    var fig = this;\n",
       "\n",
       "    var canvas_div = $('<div/>');\n",
       "\n",
       "    canvas_div.attr('style', 'position: relative; clear: both; outline: 0');\n",
       "\n",
       "    function canvas_keyboard_event(event) {\n",
       "        return fig.key_event(event, event['data']);\n",
       "    }\n",
       "\n",
       "    canvas_div.keydown('key_press', canvas_keyboard_event);\n",
       "    canvas_div.keyup('key_release', canvas_keyboard_event);\n",
       "    this.canvas_div = canvas_div\n",
       "    this._canvas_extra_style(canvas_div)\n",
       "    this.root.append(canvas_div);\n",
       "\n",
       "    var canvas = $('<canvas/>');\n",
       "    canvas.addClass('mpl-canvas');\n",
       "    canvas.attr('style', \"left: 0; top: 0; z-index: 0; outline: 0\")\n",
       "\n",
       "    this.canvas = canvas[0];\n",
       "    this.context = canvas[0].getContext(\"2d\");\n",
       "\n",
       "    var rubberband = $('<canvas/>');\n",
       "    rubberband.attr('style', \"position: absolute; left: 0; top: 0; z-index: 1;\")\n",
       "\n",
       "    var pass_mouse_events = true;\n",
       "\n",
       "    canvas_div.resizable({\n",
       "        start: function(event, ui) {\n",
       "            pass_mouse_events = false;\n",
       "        },\n",
       "        resize: function(event, ui) {\n",
       "            fig.request_resize(ui.size.width, ui.size.height);\n",
       "        },\n",
       "        stop: function(event, ui) {\n",
       "            pass_mouse_events = true;\n",
       "            fig.request_resize(ui.size.width, ui.size.height);\n",
       "        },\n",
       "    });\n",
       "\n",
       "    function mouse_event_fn(event) {\n",
       "        if (pass_mouse_events)\n",
       "            return fig.mouse_event(event, event['data']);\n",
       "    }\n",
       "\n",
       "    rubberband.mousedown('button_press', mouse_event_fn);\n",
       "    rubberband.mouseup('button_release', mouse_event_fn);\n",
       "    // Throttle sequential mouse events to 1 every 20ms.\n",
       "    rubberband.mousemove('motion_notify', mouse_event_fn);\n",
       "\n",
       "    rubberband.mouseenter('figure_enter', mouse_event_fn);\n",
       "    rubberband.mouseleave('figure_leave', mouse_event_fn);\n",
       "\n",
       "    canvas_div.on(\"wheel\", function (event) {\n",
       "        event = event.originalEvent;\n",
       "        event['data'] = 'scroll'\n",
       "        if (event.deltaY < 0) {\n",
       "            event.step = 1;\n",
       "        } else {\n",
       "            event.step = -1;\n",
       "        }\n",
       "        mouse_event_fn(event);\n",
       "    });\n",
       "\n",
       "    canvas_div.append(canvas);\n",
       "    canvas_div.append(rubberband);\n",
       "\n",
       "    this.rubberband = rubberband;\n",
       "    this.rubberband_canvas = rubberband[0];\n",
       "    this.rubberband_context = rubberband[0].getContext(\"2d\");\n",
       "    this.rubberband_context.strokeStyle = \"#000000\";\n",
       "\n",
       "    this._resize_canvas = function(width, height) {\n",
       "        // Keep the size of the canvas, canvas container, and rubber band\n",
       "        // canvas in synch.\n",
       "        canvas_div.css('width', width)\n",
       "        canvas_div.css('height', height)\n",
       "\n",
       "        canvas.attr('width', width);\n",
       "        canvas.attr('height', height);\n",
       "\n",
       "        rubberband.attr('width', width);\n",
       "        rubberband.attr('height', height);\n",
       "    }\n",
       "\n",
       "    // Set the figure to an initial 600x600px, this will subsequently be updated\n",
       "    // upon first draw.\n",
       "    this._resize_canvas(600, 600);\n",
       "\n",
       "    // Disable right mouse context menu.\n",
       "    $(this.rubberband_canvas).bind(\"contextmenu\",function(e){\n",
       "        return false;\n",
       "    });\n",
       "\n",
       "    function set_focus () {\n",
       "        canvas.focus();\n",
       "        canvas_div.focus();\n",
       "    }\n",
       "\n",
       "    window.setTimeout(set_focus, 100);\n",
       "}\n",
       "\n",
       "mpl.figure.prototype._init_toolbar = function() {\n",
       "    var fig = this;\n",
       "\n",
       "    var nav_element = $('<div/>')\n",
       "    nav_element.attr('style', 'width: 100%');\n",
       "    this.root.append(nav_element);\n",
       "\n",
       "    // Define a callback function for later on.\n",
       "    function toolbar_event(event) {\n",
       "        return fig.toolbar_button_onclick(event['data']);\n",
       "    }\n",
       "    function toolbar_mouse_event(event) {\n",
       "        return fig.toolbar_button_onmouseover(event['data']);\n",
       "    }\n",
       "\n",
       "    for(var toolbar_ind in mpl.toolbar_items) {\n",
       "        var name = mpl.toolbar_items[toolbar_ind][0];\n",
       "        var tooltip = mpl.toolbar_items[toolbar_ind][1];\n",
       "        var image = mpl.toolbar_items[toolbar_ind][2];\n",
       "        var method_name = mpl.toolbar_items[toolbar_ind][3];\n",
       "\n",
       "        if (!name) {\n",
       "            // put a spacer in here.\n",
       "            continue;\n",
       "        }\n",
       "        var button = $('<button/>');\n",
       "        button.addClass('ui-button ui-widget ui-state-default ui-corner-all ' +\n",
       "                        'ui-button-icon-only');\n",
       "        button.attr('role', 'button');\n",
       "        button.attr('aria-disabled', 'false');\n",
       "        button.click(method_name, toolbar_event);\n",
       "        button.mouseover(tooltip, toolbar_mouse_event);\n",
       "\n",
       "        var icon_img = $('<span/>');\n",
       "        icon_img.addClass('ui-button-icon-primary ui-icon');\n",
       "        icon_img.addClass(image);\n",
       "        icon_img.addClass('ui-corner-all');\n",
       "\n",
       "        var tooltip_span = $('<span/>');\n",
       "        tooltip_span.addClass('ui-button-text');\n",
       "        tooltip_span.html(tooltip);\n",
       "\n",
       "        button.append(icon_img);\n",
       "        button.append(tooltip_span);\n",
       "\n",
       "        nav_element.append(button);\n",
       "    }\n",
       "\n",
       "    var fmt_picker_span = $('<span/>');\n",
       "\n",
       "    var fmt_picker = $('<select/>');\n",
       "    fmt_picker.addClass('mpl-toolbar-option ui-widget ui-widget-content');\n",
       "    fmt_picker_span.append(fmt_picker);\n",
       "    nav_element.append(fmt_picker_span);\n",
       "    this.format_dropdown = fmt_picker[0];\n",
       "\n",
       "    for (var ind in mpl.extensions) {\n",
       "        var fmt = mpl.extensions[ind];\n",
       "        var option = $(\n",
       "            '<option/>', {selected: fmt === mpl.default_extension}).html(fmt);\n",
       "        fmt_picker.append(option)\n",
       "    }\n",
       "\n",
       "    // Add hover states to the ui-buttons\n",
       "    $( \".ui-button\" ).hover(\n",
       "        function() { $(this).addClass(\"ui-state-hover\");},\n",
       "        function() { $(this).removeClass(\"ui-state-hover\");}\n",
       "    );\n",
       "\n",
       "    var status_bar = $('<span class=\"mpl-message\"/>');\n",
       "    nav_element.append(status_bar);\n",
       "    this.message = status_bar[0];\n",
       "}\n",
       "\n",
       "mpl.figure.prototype.request_resize = function(x_pixels, y_pixels) {\n",
       "    // Request matplotlib to resize the figure. Matplotlib will then trigger a resize in the client,\n",
       "    // which will in turn request a refresh of the image.\n",
       "    this.send_message('resize', {'width': x_pixels, 'height': y_pixels});\n",
       "}\n",
       "\n",
       "mpl.figure.prototype.send_message = function(type, properties) {\n",
       "    properties['type'] = type;\n",
       "    properties['figure_id'] = this.id;\n",
       "    this.ws.send(JSON.stringify(properties));\n",
       "}\n",
       "\n",
       "mpl.figure.prototype.send_draw_message = function() {\n",
       "    if (!this.waiting) {\n",
       "        this.waiting = true;\n",
       "        this.ws.send(JSON.stringify({type: \"draw\", figure_id: this.id}));\n",
       "    }\n",
       "}\n",
       "\n",
       "\n",
       "mpl.figure.prototype.handle_save = function(fig, msg) {\n",
       "    var format_dropdown = fig.format_dropdown;\n",
       "    var format = format_dropdown.options[format_dropdown.selectedIndex].value;\n",
       "    fig.ondownload(fig, format);\n",
       "}\n",
       "\n",
       "\n",
       "mpl.figure.prototype.handle_resize = function(fig, msg) {\n",
       "    var size = msg['size'];\n",
       "    if (size[0] != fig.canvas.width || size[1] != fig.canvas.height) {\n",
       "        fig._resize_canvas(size[0], size[1]);\n",
       "        fig.send_message(\"refresh\", {});\n",
       "    };\n",
       "}\n",
       "\n",
       "mpl.figure.prototype.handle_rubberband = function(fig, msg) {\n",
       "    var x0 = msg['x0'];\n",
       "    var y0 = fig.canvas.height - msg['y0'];\n",
       "    var x1 = msg['x1'];\n",
       "    var y1 = fig.canvas.height - msg['y1'];\n",
       "    x0 = Math.floor(x0) + 0.5;\n",
       "    y0 = Math.floor(y0) + 0.5;\n",
       "    x1 = Math.floor(x1) + 0.5;\n",
       "    y1 = Math.floor(y1) + 0.5;\n",
       "    var min_x = Math.min(x0, x1);\n",
       "    var min_y = Math.min(y0, y1);\n",
       "    var width = Math.abs(x1 - x0);\n",
       "    var height = Math.abs(y1 - y0);\n",
       "\n",
       "    fig.rubberband_context.clearRect(\n",
       "        0, 0, fig.canvas.width, fig.canvas.height);\n",
       "\n",
       "    fig.rubberband_context.strokeRect(min_x, min_y, width, height);\n",
       "}\n",
       "\n",
       "mpl.figure.prototype.handle_figure_label = function(fig, msg) {\n",
       "    // Updates the figure title.\n",
       "    fig.header.textContent = msg['label'];\n",
       "}\n",
       "\n",
       "mpl.figure.prototype.handle_cursor = function(fig, msg) {\n",
       "    var cursor = msg['cursor'];\n",
       "    switch(cursor)\n",
       "    {\n",
       "    case 0:\n",
       "        cursor = 'pointer';\n",
       "        break;\n",
       "    case 1:\n",
       "        cursor = 'default';\n",
       "        break;\n",
       "    case 2:\n",
       "        cursor = 'crosshair';\n",
       "        break;\n",
       "    case 3:\n",
       "        cursor = 'move';\n",
       "        break;\n",
       "    }\n",
       "    fig.rubberband_canvas.style.cursor = cursor;\n",
       "}\n",
       "\n",
       "mpl.figure.prototype.handle_message = function(fig, msg) {\n",
       "    fig.message.textContent = msg['message'];\n",
       "}\n",
       "\n",
       "mpl.figure.prototype.handle_draw = function(fig, msg) {\n",
       "    // Request the server to send over a new figure.\n",
       "    fig.send_draw_message();\n",
       "}\n",
       "\n",
       "mpl.figure.prototype.handle_image_mode = function(fig, msg) {\n",
       "    fig.image_mode = msg['mode'];\n",
       "}\n",
       "\n",
       "mpl.figure.prototype.updated_canvas_event = function() {\n",
       "    // Called whenever the canvas gets updated.\n",
       "    this.send_message(\"ack\", {});\n",
       "}\n",
       "\n",
       "// A function to construct a web socket function for onmessage handling.\n",
       "// Called in the figure constructor.\n",
       "mpl.figure.prototype._make_on_message_function = function(fig) {\n",
       "    return function socket_on_message(evt) {\n",
       "        if (evt.data instanceof Blob) {\n",
       "            /* FIXME: We get \"Resource interpreted as Image but\n",
       "             * transferred with MIME type text/plain:\" errors on\n",
       "             * Chrome.  But how to set the MIME type?  It doesn't seem\n",
       "             * to be part of the websocket stream */\n",
       "            evt.data.type = \"image/png\";\n",
       "\n",
       "            /* Free the memory for the previous frames */\n",
       "            if (fig.imageObj.src) {\n",
       "                (window.URL || window.webkitURL).revokeObjectURL(\n",
       "                    fig.imageObj.src);\n",
       "            }\n",
       "\n",
       "            fig.imageObj.src = (window.URL || window.webkitURL).createObjectURL(\n",
       "                evt.data);\n",
       "            fig.updated_canvas_event();\n",
       "            fig.waiting = false;\n",
       "            return;\n",
       "        }\n",
       "        else if (typeof evt.data === 'string' && evt.data.slice(0, 21) == \"data:image/png;base64\") {\n",
       "            fig.imageObj.src = evt.data;\n",
       "            fig.updated_canvas_event();\n",
       "            fig.waiting = false;\n",
       "            return;\n",
       "        }\n",
       "\n",
       "        var msg = JSON.parse(evt.data);\n",
       "        var msg_type = msg['type'];\n",
       "\n",
       "        // Call the  \"handle_{type}\" callback, which takes\n",
       "        // the figure and JSON message as its only arguments.\n",
       "        try {\n",
       "            var callback = fig[\"handle_\" + msg_type];\n",
       "        } catch (e) {\n",
       "            console.log(\"No handler for the '\" + msg_type + \"' message type: \", msg);\n",
       "            return;\n",
       "        }\n",
       "\n",
       "        if (callback) {\n",
       "            try {\n",
       "                // console.log(\"Handling '\" + msg_type + \"' message: \", msg);\n",
       "                callback(fig, msg);\n",
       "            } catch (e) {\n",
       "                console.log(\"Exception inside the 'handler_\" + msg_type + \"' callback:\", e, e.stack, msg);\n",
       "            }\n",
       "        }\n",
       "    };\n",
       "}\n",
       "\n",
       "// from http://stackoverflow.com/questions/1114465/getting-mouse-location-in-canvas\n",
       "mpl.findpos = function(e) {\n",
       "    //this section is from http://www.quirksmode.org/js/events_properties.html\n",
       "    var targ;\n",
       "    if (!e)\n",
       "        e = window.event;\n",
       "    if (e.target)\n",
       "        targ = e.target;\n",
       "    else if (e.srcElement)\n",
       "        targ = e.srcElement;\n",
       "    if (targ.nodeType == 3) // defeat Safari bug\n",
       "        targ = targ.parentNode;\n",
       "\n",
       "    // jQuery normalizes the pageX and pageY\n",
       "    // pageX,Y are the mouse positions relative to the document\n",
       "    // offset() returns the position of the element relative to the document\n",
       "    var x = e.pageX - $(targ).offset().left;\n",
       "    var y = e.pageY - $(targ).offset().top;\n",
       "\n",
       "    return {\"x\": x, \"y\": y};\n",
       "};\n",
       "\n",
       "/*\n",
       " * return a copy of an object with only non-object keys\n",
       " * we need this to avoid circular references\n",
       " * http://stackoverflow.com/a/24161582/3208463\n",
       " */\n",
       "function simpleKeys (original) {\n",
       "  return Object.keys(original).reduce(function (obj, key) {\n",
       "    if (typeof original[key] !== 'object')\n",
       "        obj[key] = original[key]\n",
       "    return obj;\n",
       "  }, {});\n",
       "}\n",
       "\n",
       "mpl.figure.prototype.mouse_event = function(event, name) {\n",
       "    var canvas_pos = mpl.findpos(event)\n",
       "\n",
       "    if (name === 'button_press')\n",
       "    {\n",
       "        this.canvas.focus();\n",
       "        this.canvas_div.focus();\n",
       "    }\n",
       "\n",
       "    var x = canvas_pos.x;\n",
       "    var y = canvas_pos.y;\n",
       "\n",
       "    this.send_message(name, {x: x, y: y, button: event.button,\n",
       "                             step: event.step,\n",
       "                             guiEvent: simpleKeys(event)});\n",
       "\n",
       "    /* This prevents the web browser from automatically changing to\n",
       "     * the text insertion cursor when the button is pressed.  We want\n",
       "     * to control all of the cursor setting manually through the\n",
       "     * 'cursor' event from matplotlib */\n",
       "    event.preventDefault();\n",
       "    return false;\n",
       "}\n",
       "\n",
       "mpl.figure.prototype._key_event_extra = function(event, name) {\n",
       "    // Handle any extra behaviour associated with a key event\n",
       "}\n",
       "\n",
       "mpl.figure.prototype.key_event = function(event, name) {\n",
       "\n",
       "    // Prevent repeat events\n",
       "    if (name == 'key_press')\n",
       "    {\n",
       "        if (event.which === this._key)\n",
       "            return;\n",
       "        else\n",
       "            this._key = event.which;\n",
       "    }\n",
       "    if (name == 'key_release')\n",
       "        this._key = null;\n",
       "\n",
       "    var value = '';\n",
       "    if (event.ctrlKey && event.which != 17)\n",
       "        value += \"ctrl+\";\n",
       "    if (event.altKey && event.which != 18)\n",
       "        value += \"alt+\";\n",
       "    if (event.shiftKey && event.which != 16)\n",
       "        value += \"shift+\";\n",
       "\n",
       "    value += 'k';\n",
       "    value += event.which.toString();\n",
       "\n",
       "    this._key_event_extra(event, name);\n",
       "\n",
       "    this.send_message(name, {key: value,\n",
       "                             guiEvent: simpleKeys(event)});\n",
       "    return false;\n",
       "}\n",
       "\n",
       "mpl.figure.prototype.toolbar_button_onclick = function(name) {\n",
       "    if (name == 'download') {\n",
       "        this.handle_save(this, null);\n",
       "    } else {\n",
       "        this.send_message(\"toolbar_button\", {name: name});\n",
       "    }\n",
       "};\n",
       "\n",
       "mpl.figure.prototype.toolbar_button_onmouseover = function(tooltip) {\n",
       "    this.message.textContent = tooltip;\n",
       "};\n",
       "mpl.toolbar_items = [[\"Home\", \"Reset original view\", \"fa fa-home icon-home\", \"home\"], [\"Back\", \"Back to  previous view\", \"fa fa-arrow-left icon-arrow-left\", \"back\"], [\"Forward\", \"Forward to next view\", \"fa fa-arrow-right icon-arrow-right\", \"forward\"], [\"\", \"\", \"\", \"\"], [\"Pan\", \"Pan axes with left mouse, zoom with right\", \"fa fa-arrows icon-move\", \"pan\"], [\"Zoom\", \"Zoom to rectangle\", \"fa fa-square-o icon-check-empty\", \"zoom\"], [\"\", \"\", \"\", \"\"], [\"Download\", \"Download plot\", \"fa fa-floppy-o icon-save\", \"download\"]];\n",
       "\n",
       "mpl.extensions = [\"eps\", \"jpeg\", \"pdf\", \"png\", \"ps\", \"raw\", \"svg\", \"tif\"];\n",
       "\n",
       "mpl.default_extension = \"png\";var comm_websocket_adapter = function(comm) {\n",
       "    // Create a \"websocket\"-like object which calls the given IPython comm\n",
       "    // object with the appropriate methods. Currently this is a non binary\n",
       "    // socket, so there is still some room for performance tuning.\n",
       "    var ws = {};\n",
       "\n",
       "    ws.close = function() {\n",
       "        comm.close()\n",
       "    };\n",
       "    ws.send = function(m) {\n",
       "        //console.log('sending', m);\n",
       "        comm.send(m);\n",
       "    };\n",
       "    // Register the callback with on_msg.\n",
       "    comm.on_msg(function(msg) {\n",
       "        //console.log('receiving', msg['content']['data'], msg);\n",
       "        // Pass the mpl event to the overriden (by mpl) onmessage function.\n",
       "        ws.onmessage(msg['content']['data'])\n",
       "    });\n",
       "    return ws;\n",
       "}\n",
       "\n",
       "mpl.mpl_figure_comm = function(comm, msg) {\n",
       "    // This is the function which gets called when the mpl process\n",
       "    // starts-up an IPython Comm through the \"matplotlib\" channel.\n",
       "\n",
       "    var id = msg.content.data.id;\n",
       "    // Get hold of the div created by the display call when the Comm\n",
       "    // socket was opened in Python.\n",
       "    var element = $(\"#\" + id);\n",
       "    var ws_proxy = comm_websocket_adapter(comm)\n",
       "\n",
       "    function ondownload(figure, format) {\n",
       "        window.open(figure.imageObj.src);\n",
       "    }\n",
       "\n",
       "    var fig = new mpl.figure(id, ws_proxy,\n",
       "                           ondownload,\n",
       "                           element.get(0));\n",
       "\n",
       "    // Call onopen now - mpl needs it, as it is assuming we've passed it a real\n",
       "    // web socket which is closed, not our websocket->open comm proxy.\n",
       "    ws_proxy.onopen();\n",
       "\n",
       "    fig.parent_element = element.get(0);\n",
       "    fig.cell_info = mpl.find_output_cell(\"<div id='\" + id + \"'></div>\");\n",
       "    if (!fig.cell_info) {\n",
       "        console.error(\"Failed to find cell for figure\", id, fig);\n",
       "        return;\n",
       "    }\n",
       "\n",
       "    var output_index = fig.cell_info[2]\n",
       "    var cell = fig.cell_info[0];\n",
       "\n",
       "};\n",
       "\n",
       "mpl.figure.prototype.handle_close = function(fig, msg) {\n",
       "    fig.root.unbind('remove')\n",
       "\n",
       "    // Update the output cell to use the data from the current canvas.\n",
       "    fig.push_to_output();\n",
       "    var dataURL = fig.canvas.toDataURL();\n",
       "    // Re-enable the keyboard manager in IPython - without this line, in FF,\n",
       "    // the notebook keyboard shortcuts fail.\n",
       "    IPython.keyboard_manager.enable()\n",
       "    $(fig.parent_element).html('<img src=\"' + dataURL + '\">');\n",
       "    fig.close_ws(fig, msg);\n",
       "}\n",
       "\n",
       "mpl.figure.prototype.close_ws = function(fig, msg){\n",
       "    fig.send_message('closing', msg);\n",
       "    // fig.ws.close()\n",
       "}\n",
       "\n",
       "mpl.figure.prototype.push_to_output = function(remove_interactive) {\n",
       "    // Turn the data on the canvas into data in the output cell.\n",
       "    var dataURL = this.canvas.toDataURL();\n",
       "    this.cell_info[1]['text/html'] = '<img src=\"' + dataURL + '\">';\n",
       "}\n",
       "\n",
       "mpl.figure.prototype.updated_canvas_event = function() {\n",
       "    // Tell IPython that the notebook contents must change.\n",
       "    IPython.notebook.set_dirty(true);\n",
       "    this.send_message(\"ack\", {});\n",
       "    var fig = this;\n",
       "    // Wait a second, then push the new image to the DOM so\n",
       "    // that it is saved nicely (might be nice to debounce this).\n",
       "    setTimeout(function () { fig.push_to_output() }, 1000);\n",
       "}\n",
       "\n",
       "mpl.figure.prototype._init_toolbar = function() {\n",
       "    var fig = this;\n",
       "\n",
       "    var nav_element = $('<div/>')\n",
       "    nav_element.attr('style', 'width: 100%');\n",
       "    this.root.append(nav_element);\n",
       "\n",
       "    // Define a callback function for later on.\n",
       "    function toolbar_event(event) {\n",
       "        return fig.toolbar_button_onclick(event['data']);\n",
       "    }\n",
       "    function toolbar_mouse_event(event) {\n",
       "        return fig.toolbar_button_onmouseover(event['data']);\n",
       "    }\n",
       "\n",
       "    for(var toolbar_ind in mpl.toolbar_items){\n",
       "        var name = mpl.toolbar_items[toolbar_ind][0];\n",
       "        var tooltip = mpl.toolbar_items[toolbar_ind][1];\n",
       "        var image = mpl.toolbar_items[toolbar_ind][2];\n",
       "        var method_name = mpl.toolbar_items[toolbar_ind][3];\n",
       "\n",
       "        if (!name) { continue; };\n",
       "\n",
       "        var button = $('<button class=\"btn btn-default\" href=\"#\" title=\"' + name + '\"><i class=\"fa ' + image + ' fa-lg\"></i></button>');\n",
       "        button.click(method_name, toolbar_event);\n",
       "        button.mouseover(tooltip, toolbar_mouse_event);\n",
       "        nav_element.append(button);\n",
       "    }\n",
       "\n",
       "    // Add the status bar.\n",
       "    var status_bar = $('<span class=\"mpl-message\" style=\"text-align:right; float: right;\"/>');\n",
       "    nav_element.append(status_bar);\n",
       "    this.message = status_bar[0];\n",
       "\n",
       "    // Add the close button to the window.\n",
       "    var buttongrp = $('<div class=\"btn-group inline pull-right\"></div>');\n",
       "    var button = $('<button class=\"btn btn-mini btn-primary\" href=\"#\" title=\"Stop Interaction\"><i class=\"fa fa-power-off icon-remove icon-large\"></i></button>');\n",
       "    button.click(function (evt) { fig.handle_close(fig, {}); } );\n",
       "    button.mouseover('Stop Interaction', toolbar_mouse_event);\n",
       "    buttongrp.append(button);\n",
       "    var titlebar = this.root.find($('.ui-dialog-titlebar'));\n",
       "    titlebar.prepend(buttongrp);\n",
       "}\n",
       "\n",
       "mpl.figure.prototype._root_extra_style = function(el){\n",
       "    var fig = this\n",
       "    el.on(\"remove\", function(){\n",
       "\tfig.close_ws(fig, {});\n",
       "    });\n",
       "}\n",
       "\n",
       "mpl.figure.prototype._canvas_extra_style = function(el){\n",
       "    // this is important to make the div 'focusable\n",
       "    el.attr('tabindex', 0)\n",
       "    // reach out to IPython and tell the keyboard manager to turn it's self\n",
       "    // off when our div gets focus\n",
       "\n",
       "    // location in version 3\n",
       "    if (IPython.notebook.keyboard_manager) {\n",
       "        IPython.notebook.keyboard_manager.register_events(el);\n",
       "    }\n",
       "    else {\n",
       "        // location in version 2\n",
       "        IPython.keyboard_manager.register_events(el);\n",
       "    }\n",
       "\n",
       "}\n",
       "\n",
       "mpl.figure.prototype._key_event_extra = function(event, name) {\n",
       "    var manager = IPython.notebook.keyboard_manager;\n",
       "    if (!manager)\n",
       "        manager = IPython.keyboard_manager;\n",
       "\n",
       "    // Check for shift+enter\n",
       "    if (event.shiftKey && event.which == 13) {\n",
       "        this.canvas_div.blur();\n",
       "        event.shiftKey = false;\n",
       "        // Send a \"J\" for go to next cell\n",
       "        event.which = 74;\n",
       "        event.keyCode = 74;\n",
       "        manager.command_mode();\n",
       "        manager.handle_keydown(event);\n",
       "    }\n",
       "}\n",
       "\n",
       "mpl.figure.prototype.handle_save = function(fig, msg) {\n",
       "    fig.ondownload(fig, null);\n",
       "}\n",
       "\n",
       "\n",
       "mpl.find_output_cell = function(html_output) {\n",
       "    // Return the cell and output element which can be found *uniquely* in the notebook.\n",
       "    // Note - this is a bit hacky, but it is done because the \"notebook_saving.Notebook\"\n",
       "    // IPython event is triggered only after the cells have been serialised, which for\n",
       "    // our purposes (turning an active figure into a static one), is too late.\n",
       "    var cells = IPython.notebook.get_cells();\n",
       "    var ncells = cells.length;\n",
       "    for (var i=0; i<ncells; i++) {\n",
       "        var cell = cells[i];\n",
       "        if (cell.cell_type === 'code'){\n",
       "            for (var j=0; j<cell.output_area.outputs.length; j++) {\n",
       "                var data = cell.output_area.outputs[j];\n",
       "                if (data.data) {\n",
       "                    // IPython >= 3 moved mimebundle to data attribute of output\n",
       "                    data = data.data;\n",
       "                }\n",
       "                if (data['text/html'] == html_output) {\n",
       "                    return [cell, data, j];\n",
       "                }\n",
       "            }\n",
       "        }\n",
       "    }\n",
       "}\n",
       "\n",
       "// Register the function which deals with the matplotlib target/channel.\n",
       "// The kernel may be null if the page has been refreshed.\n",
       "if (IPython.notebook.kernel != null) {\n",
       "    IPython.notebook.kernel.comm_manager.register_target('matplotlib', mpl.mpl_figure_comm);\n",
       "}\n"
      ],
      "text/plain": [
       "<IPython.core.display.Javascript object>"
      ]
     },
     "metadata": {},
     "output_type": "display_data"
    },
    {
     "data": {
      "text/html": [
       "<img src=\"data:image/png;base64,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\">"
      ],
      "text/plain": [
       "<IPython.core.display.HTML object>"
      ]
     },
     "metadata": {},
     "output_type": "display_data"
    },
    {
     "data": {
      "text/plain": [
       "<matplotlib.axes._subplots.AxesSubplot at 0xb191978>"
      ]
     },
     "execution_count": 212,
     "metadata": {},
     "output_type": "execute_result"
    }
   ],
   "source": [
    "fig, ax = plt.subplots()\n",
    "df.plot.line(ax=ax, style='-o')"
   ]
  },
  {
   "cell_type": "markdown",
   "metadata": {},
   "source": [
    "# Tests "
   ]
  },
  {
   "cell_type": "markdown",
   "metadata": {},
   "source": [
    "## Fonction"
   ]
  },
  {
   "cell_type": "code",
   "execution_count": 356,
   "metadata": {
    "collapsed": true
   },
   "outputs": [],
   "source": [
    "def extract_height_date(soup):\n",
    "    \"Extracts height (in cm) and date from soup.\"\n",
    "    pattern_cm = re.compile('Hauteur :\\n(\\d+.\\d*)[ \\xa0]cm.+Date :\\n([\\d/: ]+)', re.DOTALL)\n",
    "    pattern_mm = re.compile('Hauteur :\\n(\\d+.\\d*)[ \\xa0]mm.+Date :\\n([\\d/: ]+)', re.DOTALL)\n",
    "    res = re.findall(pattern_cm, soup.text)\n",
    "    if len(res) > 0:\n",
    "        # assume it was cm\n",
    "        return res\n",
    "    else:\n",
    "        # assume it was mm\n",
    "        res = re.findall(pattern_mm, soup.text)\n",
    "        if len(res) > 0:\n",
    "            height, date = res[0]\n",
    "            height = str(float(height) / 10)\n",
    "            return [(height, date)]\n",
    "        else:\n",
    "            return [(None, None)]"
   ]
  },
  {
   "cell_type": "markdown",
   "metadata": {},
   "source": [
    "## Test cases "
   ]
  },
  {
   "cell_type": "markdown",
   "metadata": {},
   "source": [
    "On va tester les extractions en cm et mm et valider les résultats."
   ]
  },
  {
   "cell_type": "code",
   "execution_count": 357,
   "metadata": {
    "collapsed": true
   },
   "outputs": [],
   "source": [
    "test_cases = [\"\"\"<table class=\"statistiques\" width=\"42%\"><tbody>\n",
    "<tr><td class=\"left\" colspan=\"3\" id=\"C1\"><span class=\"procedure_choix\">Ecoulement mensuel</span></td></tr>\n",
    "<tr>\n",
    "<td class=\"left\" id=\"C1\"> </td>\n",
    "<td class=\"left\" id=\"C2\" style=\"text-align:left;border-color:#FFFFFF;font-size:1em;\" width=\"40%\">Débit moyen :</td>\n",
    "<td class=\"left\" id=\"C3\" style=\"text-align:left;border-color:#FFFFFF;font-size:1em;\" width=\"50%\">366.0 m3/s</td>\n",
    "</tr>\n",
    "<tr>\n",
    "<td class=\"left\" id=\"C1\"> </td>\n",
    "<td class=\"left\" id=\"C2\" style=\"text-align:left;border-color:#FFFFFF;font-size:1em;\" width=\"40%\">Débit moyen spécifique :</td>\n",
    "<td class=\"left\" id=\"C3\" style=\"text-align:left;border-color:#FFFFFF;font-size:1em;\" width=\"50%\">8.37 l/s/km2</td>\n",
    "</tr>\n",
    "<tr>\n",
    "<td class=\"left\" id=\"C1\"> </td>\n",
    "<td class=\"left\" id=\"C2\" style=\"text-align:left;border-color:#FFFFFF;font-size:1em;\" width=\"40%\">Lame d'eau :</td>\n",
    "<td class=\"left\" id=\"C3\" style=\"text-align:left;border-color:#FFFFFF;font-size:1em;\" width=\"50%\">22.4 mm</td>\n",
    "</tr>\n",
    "<tr><td class=\"left\" colspan=\"3\" id=\"C1\"> </td></tr>\n",
    "<tr><td class=\"left\" colspan=\"3\" id=\"C1\"><span class=\"procedure_choix\">Ecoulement naturel reconstitué</span></td></tr>\n",
    "<tr>\n",
    "<td class=\"left\" id=\"C1\"> </td>\n",
    "<td class=\"left\" id=\"C2\" style=\"text-align:left;border-color:#FFFFFF;font-size:1em;\" width=\"30%\">Débit moyen :</td>\n",
    "<td class=\"left\" id=\"C3\" style=\"text-align:left;border-color:#FFFFFF;font-size:1em;\" width=\"50%\">366.0 m3/s</td>\n",
    "</tr>\n",
    "<tr>\n",
    "<td class=\"left\" id=\"C1\"> </td>\n",
    "<td class=\"left\" id=\"C2\" style=\"text-align:left;border-color:#FFFFFF;font-size:1em;\" width=\"30%\">Débit moyen spécifique :</td>\n",
    "<td class=\"left\" id=\"C3\" style=\"text-align:left;border-color:#FFFFFF;font-size:1em;\" width=\"50%\">8.37 l/s/km2</td>\n",
    "</tr>\n",
    "<tr>\n",
    "<td class=\"left\" id=\"C1\"> </td>\n",
    "<td class=\"left\" id=\"C2\" style=\"text-align:left;border-color:#FFFFFF;font-size:1em;\" width=\"30%\">Lame d'eau :</td>\n",
    "<td class=\"left\" id=\"C3\" style=\"text-align:left;border-color:#FFFFFF;font-size:1em;\" width=\"50%\">22.4 mm</td>\n",
    "</tr>\n",
    "<tr><td class=\"left\" colspan=\"3\" id=\"C1\"> </td></tr>\n",
    "<tr><td class=\"left\" colspan=\"3\" id=\"C1\"><span class=\"procedure_choix\">Maximum instantané</span></td></tr>\n",
    "<tr>\n",
    "<td class=\"left\" id=\"C1\"> </td>\n",
    "<td class=\"left\" id=\"C2\" style=\"text-align:left;border-color:#FFFFFF;font-size:1em;\" width=\"30%\">Hauteur :</td>\n",
    "<td class=\"left\" id=\"C3\" style=\"text-align:left;border-color:#FFFFFF;font-size:1em;\" width=\"50%\">1570.0 mm</td>\n",
    "</tr>\n",
    "<tr>\n",
    "<td class=\"left\" id=\"C1\"> </td>\n",
    "<td class=\"left\" id=\"C2\" style=\"text-align:left;border-color:#FFFFFF;font-size:1em;\" width=\"30%\">Date :</td>\n",
    "<td class=\"left\" id=\"C3\" style=\"text-align:left;border-color:#FFFFFF;font-size:1em;\" width=\"50%\">17/01/2008 19:10</td>\n",
    "</tr>\n",
    "</tbody></table>\"\"\",\n",
    "             \"\"\"<table class=\"statistiques\" width=\"42%\"><tbody>\n",
    "<tr><td class=\"left\" colspan=\"3\" id=\"C1\"><span class=\"procedure_choix\">Ecoulement annuel</span></td></tr>\n",
    "<tr>\n",
    "<td class=\"left\" id=\"C1\"> </td>\n",
    "<td class=\"left\" id=\"C2\" style=\"text-align:left;border-color:#FFFFFF;font-size:1em;\" width=\"40%\">Débit moyen :</td>\n",
    "<td class=\"left\" id=\"C3\" style=\"text-align:left;border-color:#FFFFFF;font-size:1em;\" width=\"50%\">441.0 m3/s</td>\n",
    "</tr>\n",
    "<tr>\n",
    "<td class=\"left\" id=\"C1\"> </td>\n",
    "<td class=\"left\" id=\"C2\" style=\"text-align:left;border-color:#FFFFFF;font-size:1em;\" width=\"40%\">Débit moyen spécifique :</td>\n",
    "<td class=\"left\" id=\"C3\" style=\"text-align:left;border-color:#FFFFFF;font-size:1em;\" width=\"50%\">10.10 l/s/km2</td>\n",
    "</tr>\n",
    "<tr>\n",
    "<td class=\"left\" id=\"C1\"> </td>\n",
    "<td class=\"left\" id=\"C2\" style=\"text-align:left;border-color:#FFFFFF;font-size:1em;\" width=\"40%\">Lame d'eau :</td>\n",
    "<td class=\"left\" id=\"C3\" style=\"text-align:left;border-color:#FFFFFF;font-size:1em;\" width=\"50%\">318.0 mm</td>\n",
    "</tr>\n",
    "<tr><td class=\"left\" colspan=\"3\" id=\"C1\"> </td></tr>\n",
    "<tr><td class=\"left\" colspan=\"3\" id=\"C1\"><span class=\"procedure_choix\">Ecoulement naturel reconstitué</span></td></tr>\n",
    "<tr>\n",
    "<td class=\"left\" id=\"C1\"> </td>\n",
    "<td class=\"left\" id=\"C2\" style=\"text-align:left;border-color:#FFFFFF;font-size:1em;\" width=\"30%\">Débit moyen :</td>\n",
    "<td class=\"left\" id=\"C3\" style=\"text-align:left;border-color:#FFFFFF;font-size:1em;\" width=\"50%\">441.0 m3/s</td>\n",
    "</tr>\n",
    "<tr>\n",
    "<td class=\"left\" id=\"C1\"> </td>\n",
    "<td class=\"left\" id=\"C2\" style=\"text-align:left;border-color:#FFFFFF;font-size:1em;\" width=\"30%\">Débit moyen spécifique :</td>\n",
    "<td class=\"left\" id=\"C3\" style=\"text-align:left;border-color:#FFFFFF;font-size:1em;\" width=\"50%\">10.10 l/s/km2</td>\n",
    "</tr>\n",
    "<tr>\n",
    "<td class=\"left\" id=\"C1\"> </td>\n",
    "<td class=\"left\" id=\"C2\" style=\"text-align:left;border-color:#FFFFFF;font-size:1em;\" width=\"30%\">Lame d'eau :</td>\n",
    "<td class=\"left\" id=\"C3\" style=\"text-align:left;border-color:#FFFFFF;font-size:1em;\" width=\"50%\">318.0 mm</td>\n",
    "</tr>\n",
    "<tr><td class=\"left\" colspan=\"3\" id=\"C1\"> </td></tr>\n",
    "<tr><td class=\"left\" colspan=\"3\" id=\"C1\"><span class=\"procedure_choix\">Maximum instantané</span></td></tr>\n",
    "<tr>\n",
    "<td class=\"left\" id=\"C1\"> </td>\n",
    "<td class=\"left\" id=\"C2\" style=\"text-align:left;border-color:#FFFFFF;font-size:1em;\" width=\"30%\">Débit :</td>\n",
    "<td class=\"left\" id=\"C3\" style=\"text-align:left;border-color:#FFFFFF;font-size:1em;\" width=\"50%\">1740.0 m3/s</td>\n",
    "</tr>\n",
    "<tr>\n",
    "<td class=\"left\" id=\"C1\"> </td>\n",
    "<td class=\"left\" id=\"C2\" style=\"text-align:left;border-color:#FFFFFF;font-size:1em;\" width=\"30%\">Validité :</td>\n",
    "<td class=\"left\" id=\"C3\" style=\"text-align:left;border-color:#FFFFFF;font-size:1em;\" width=\"50%\">#</td>\n",
    "</tr>\n",
    "<tr>\n",
    "<td class=\"left\" id=\"C1\"> </td>\n",
    "<td class=\"left\" id=\"C2\" style=\"text-align:left;border-color:#FFFFFF;font-size:1em;\" width=\"30%\">Date :</td>\n",
    "<td class=\"left\" id=\"C3\" style=\"text-align:left;border-color:#FFFFFF;font-size:1em;\" width=\"50%\">08/01/1926 07:00</td>\n",
    "</tr>\n",
    "<tr>\n",
    "<td class=\"left\" id=\"C1\"> </td>\n",
    "<td class=\"left\" id=\"C2\" style=\"text-align:left;border-color:#FFFFFF;font-size:1em;\" width=\"30%\">Hauteur :</td>\n",
    "<td class=\"left\" id=\"C3\" style=\"text-align:left;border-color:#FFFFFF;font-size:1em;\" width=\"50%\">602.0 cm</td>\n",
    "</tr>\n",
    "<tr>\n",
    "<td class=\"left\" id=\"C1\"> </td>\n",
    "<td class=\"left\" id=\"C2\" style=\"text-align:left;border-color:#FFFFFF;font-size:1em;\" width=\"30%\">Date :</td>\n",
    "<td class=\"left\" id=\"C3\" style=\"text-align:left;border-color:#FFFFFF;font-size:1em;\" width=\"50%\">08/01/1926 07:00</td>\n",
    "</tr>\n",
    "</tbody></table>\"\"\", \n",
    "             \"\"\"<table class=\"statistiques\" width=\"42%\"><tbody>\n",
    "<tr><td class=\"left\" colspan=\"3\" id=\"C1\"><span class=\"procedure_choix\">Ecoulement mensuel</span></td></tr>\n",
    "<tr>\n",
    "<td class=\"left\" id=\"C1\"> </td>\n",
    "<td class=\"left\" id=\"C2\" style=\"text-align:left;border-color:#FFFFFF;font-size:1em;\" width=\"40%\">Débit moyen :</td>\n",
    "<td class=\"left\" id=\"C3\" style=\"text-align:left;border-color:#FFFFFF;font-size:1em;\" width=\"50%\">518.0 m3/s</td>\n",
    "</tr>\n",
    "<tr>\n",
    "<td class=\"left\" id=\"C1\"> </td>\n",
    "<td class=\"left\" id=\"C2\" style=\"text-align:left;border-color:#FFFFFF;font-size:1em;\" width=\"40%\">Débit moyen spécifique :</td>\n",
    "<td class=\"left\" id=\"C3\" style=\"text-align:left;border-color:#FFFFFF;font-size:1em;\" width=\"50%\">11.80 l/s/km2</td>\n",
    "</tr>\n",
    "<tr>\n",
    "<td class=\"left\" id=\"C1\"> </td>\n",
    "<td class=\"left\" id=\"C2\" style=\"text-align:left;border-color:#FFFFFF;font-size:1em;\" width=\"40%\">Lame d'eau :</td>\n",
    "<td class=\"left\" id=\"C3\" style=\"text-align:left;border-color:#FFFFFF;font-size:1em;\" width=\"50%\">28.6 mm</td>\n",
    "</tr>\n",
    "<tr><td class=\"left\" colspan=\"3\" id=\"C1\"> </td></tr>\n",
    "<tr><td class=\"left\" colspan=\"3\" id=\"C1\"><span class=\"procedure_choix\">Ecoulement naturel reconstitué</span></td></tr>\n",
    "<tr>\n",
    "<td class=\"left\" id=\"C1\"> </td>\n",
    "<td class=\"left\" id=\"C2\" style=\"text-align:left;border-color:#FFFFFF;font-size:1em;\" width=\"30%\">Débit moyen :</td>\n",
    "<td class=\"left\" id=\"C3\" style=\"text-align:left;border-color:#FFFFFF;font-size:1em;\" width=\"50%\">518.0 m3/s</td>\n",
    "</tr>\n",
    "<tr>\n",
    "<td class=\"left\" id=\"C1\"> </td>\n",
    "<td class=\"left\" id=\"C2\" style=\"text-align:left;border-color:#FFFFFF;font-size:1em;\" width=\"30%\">Débit moyen spécifique :</td>\n",
    "<td class=\"left\" id=\"C3\" style=\"text-align:left;border-color:#FFFFFF;font-size:1em;\" width=\"50%\">11.80 l/s/km2</td>\n",
    "</tr>\n",
    "<tr>\n",
    "<td class=\"left\" id=\"C1\"> </td>\n",
    "<td class=\"left\" id=\"C2\" style=\"text-align:left;border-color:#FFFFFF;font-size:1em;\" width=\"30%\">Lame d'eau :</td>\n",
    "<td class=\"left\" id=\"C3\" style=\"text-align:left;border-color:#FFFFFF;font-size:1em;\" width=\"50%\">28.6 mm</td>\n",
    "</tr>\n",
    "<tr><td class=\"left\" colspan=\"3\" id=\"C1\"> </td></tr>\n",
    "</tbody></table>\"\"\"]"
   ]
  },
  {
   "cell_type": "code",
   "execution_count": 358,
   "metadata": {
    "collapsed": true
   },
   "outputs": [],
   "source": [
    "test_results = [1, 1, 0]"
   ]
  },
  {
   "cell_type": "code",
   "execution_count": 359,
   "metadata": {
    "collapsed": false
   },
   "outputs": [
    {
     "name": "stdout",
     "output_type": "stream",
     "text": [
      "expected: 1, actual: [('157.0', '17/01/2008 19:10')]\n",
      "expected: 1, actual: [('602.0', '08/01/1926 07:00')]\n",
      "expected: 0, actual: [(None, None)]\n"
     ]
    }
   ],
   "source": [
    "for tc, tr in zip(test_cases, test_results):\n",
    "    test_soup = BeautifulSoup(tc, 'xml')\n",
    "    print(\"expected: {}, actual: {}\".format(tr, extract_height_date(test_soup)))"
   ]
  },
  {
   "cell_type": "markdown",
   "metadata": {},
   "source": [
    "# But does it scale ? "
   ]
  },
  {
   "cell_type": "markdown",
   "metadata": {},
   "source": [
    "On peut tester notre fonction sur des données un peu plus grandes."
   ]
  },
  {
   "cell_type": "code",
   "execution_count": 360,
   "metadata": {
    "collapsed": true
   },
   "outputs": [],
   "source": [
    "soup = BeautifulSoup(open('data_2008-2016.html', encoding='iso-8859-1'), 'html.parser')"
   ]
  },
  {
   "cell_type": "code",
   "execution_count": 361,
   "metadata": {
    "collapsed": false
   },
   "outputs": [],
   "source": [
    "data = []\n",
    "for table in soup.find_all('table', class_='statistiques'):\n",
    "    if is_monthly(table):\n",
    "        data.append(*extract_height_date(table))"
   ]
  },
  {
   "cell_type": "code",
   "execution_count": 362,
   "metadata": {
    "collapsed": false
   },
   "outputs": [
    {
     "data": {
      "text/plain": [
       "[('157.0', '17/01/2008 19:10'),\n",
       " ('246.0', '07/02/2008 08:51'),\n",
       " ('309.0', '28/03/2008 23:13'),\n",
       " ('306.0', '15/04/2008 17:30'),\n",
       " ('202.0', '01/05/2008 00:01'),\n",
       " ('156.0', '13/06/2008 14:05'),\n",
       " ('153.0', '07/07/2008 12:33'),\n",
       " ('160.0', '07/08/2008 08:15'),\n",
       " ('144.0', '14/09/2008 14:24'),\n",
       " ('134.0', '27/10/2008 09:09'),\n",
       " ('135.0', '28/11/2008 14:11'),\n",
       " ('170.0', '11/12/2008 05:47'),\n",
       " ('177.0', '26/01/2009 17:45'),\n",
       " ('170.0', '11/02/2009 10:03'),\n",
       " ('150.0', '04/03/2009 16:44'),\n",
       " ('132.0', '28/04/2009 18:26'),\n",
       " ('128.0', '12/05/2009 07:41'),\n",
       " ('123.0', '15/06/2009 18:02'),\n",
       " ('119.0', '17/07/2009 14:24'),\n",
       " ('115.0', '05/08/2009 18:55'),\n",
       " ('182.0', '07/11/2014 12:20'),\n",
       " ('236.0', '21/12/2014 01:53'),\n",
       " ('140.0', '22/11/2015 00:00'),\n",
       " ('128.0', '02/12/2015 15:00'),\n",
       " ('188.0', '05/01/2015 13:24'),\n",
       " (None, None),\n",
       " (None, None),\n",
       " (None, None),\n",
       " ('122.0', '25/05/2015 00:05'),\n",
       " ('113.0', '06/06/2015 13:06'),\n",
       " (None, None),\n",
       " (None, None),\n",
       " (None, None),\n",
       " (None, None),\n",
       " (None, None),\n",
       " (None, None),\n",
       " ('116.0', '04/01/2016 00:45'),\n",
       " ('316.0', '15/02/2016 11:09'),\n",
       " ('291.0', '08/03/2016 18:19'),\n",
       " ('219.0', '08/04/2016 12:56'),\n",
       " ('148.0', '14/01/2016 14:05')]"
      ]
     },
     "execution_count": 362,
     "metadata": {},
     "output_type": "execute_result"
    }
   ],
   "source": [
    "data"
   ]
  },
  {
   "cell_type": "code",
   "execution_count": 366,
   "metadata": {
    "collapsed": false
   },
   "outputs": [
    {
     "data": {
      "text/html": [
       "<div>\n",
       "<table border=\"1\" class=\"dataframe\">\n",
       "  <thead>\n",
       "    <tr style=\"text-align: right;\">\n",
       "      <th></th>\n",
       "      <th>0</th>\n",
       "      <th>1</th>\n",
       "    </tr>\n",
       "  </thead>\n",
       "  <tbody>\n",
       "    <tr>\n",
       "      <th>0</th>\n",
       "      <td>157.0</td>\n",
       "      <td>17/01/2008 19:10</td>\n",
       "    </tr>\n",
       "    <tr>\n",
       "      <th>1</th>\n",
       "      <td>246.0</td>\n",
       "      <td>07/02/2008 08:51</td>\n",
       "    </tr>\n",
       "    <tr>\n",
       "      <th>2</th>\n",
       "      <td>309.0</td>\n",
       "      <td>28/03/2008 23:13</td>\n",
       "    </tr>\n",
       "    <tr>\n",
       "      <th>3</th>\n",
       "      <td>306.0</td>\n",
       "      <td>15/04/2008 17:30</td>\n",
       "    </tr>\n",
       "    <tr>\n",
       "      <th>4</th>\n",
       "      <td>202.0</td>\n",
       "      <td>01/05/2008 00:01</td>\n",
       "    </tr>\n",
       "    <tr>\n",
       "      <th>5</th>\n",
       "      <td>156.0</td>\n",
       "      <td>13/06/2008 14:05</td>\n",
       "    </tr>\n",
       "    <tr>\n",
       "      <th>6</th>\n",
       "      <td>153.0</td>\n",
       "      <td>07/07/2008 12:33</td>\n",
       "    </tr>\n",
       "    <tr>\n",
       "      <th>7</th>\n",
       "      <td>160.0</td>\n",
       "      <td>07/08/2008 08:15</td>\n",
       "    </tr>\n",
       "    <tr>\n",
       "      <th>8</th>\n",
       "      <td>144.0</td>\n",
       "      <td>14/09/2008 14:24</td>\n",
       "    </tr>\n",
       "    <tr>\n",
       "      <th>9</th>\n",
       "      <td>134.0</td>\n",
       "      <td>27/10/2008 09:09</td>\n",
       "    </tr>\n",
       "    <tr>\n",
       "      <th>10</th>\n",
       "      <td>135.0</td>\n",
       "      <td>28/11/2008 14:11</td>\n",
       "    </tr>\n",
       "    <tr>\n",
       "      <th>11</th>\n",
       "      <td>170.0</td>\n",
       "      <td>11/12/2008 05:47</td>\n",
       "    </tr>\n",
       "    <tr>\n",
       "      <th>12</th>\n",
       "      <td>177.0</td>\n",
       "      <td>26/01/2009 17:45</td>\n",
       "    </tr>\n",
       "    <tr>\n",
       "      <th>13</th>\n",
       "      <td>170.0</td>\n",
       "      <td>11/02/2009 10:03</td>\n",
       "    </tr>\n",
       "    <tr>\n",
       "      <th>14</th>\n",
       "      <td>150.0</td>\n",
       "      <td>04/03/2009 16:44</td>\n",
       "    </tr>\n",
       "    <tr>\n",
       "      <th>15</th>\n",
       "      <td>132.0</td>\n",
       "      <td>28/04/2009 18:26</td>\n",
       "    </tr>\n",
       "    <tr>\n",
       "      <th>16</th>\n",
       "      <td>128.0</td>\n",
       "      <td>12/05/2009 07:41</td>\n",
       "    </tr>\n",
       "    <tr>\n",
       "      <th>17</th>\n",
       "      <td>123.0</td>\n",
       "      <td>15/06/2009 18:02</td>\n",
       "    </tr>\n",
       "    <tr>\n",
       "      <th>18</th>\n",
       "      <td>119.0</td>\n",
       "      <td>17/07/2009 14:24</td>\n",
       "    </tr>\n",
       "    <tr>\n",
       "      <th>19</th>\n",
       "      <td>115.0</td>\n",
       "      <td>05/08/2009 18:55</td>\n",
       "    </tr>\n",
       "    <tr>\n",
       "      <th>20</th>\n",
       "      <td>182.0</td>\n",
       "      <td>07/11/2014 12:20</td>\n",
       "    </tr>\n",
       "    <tr>\n",
       "      <th>21</th>\n",
       "      <td>236.0</td>\n",
       "      <td>21/12/2014 01:53</td>\n",
       "    </tr>\n",
       "    <tr>\n",
       "      <th>22</th>\n",
       "      <td>140.0</td>\n",
       "      <td>22/11/2015 00:00</td>\n",
       "    </tr>\n",
       "    <tr>\n",
       "      <th>23</th>\n",
       "      <td>128.0</td>\n",
       "      <td>02/12/2015 15:00</td>\n",
       "    </tr>\n",
       "    <tr>\n",
       "      <th>24</th>\n",
       "      <td>188.0</td>\n",
       "      <td>05/01/2015 13:24</td>\n",
       "    </tr>\n",
       "    <tr>\n",
       "      <th>28</th>\n",
       "      <td>122.0</td>\n",
       "      <td>25/05/2015 00:05</td>\n",
       "    </tr>\n",
       "    <tr>\n",
       "      <th>29</th>\n",
       "      <td>113.0</td>\n",
       "      <td>06/06/2015 13:06</td>\n",
       "    </tr>\n",
       "    <tr>\n",
       "      <th>36</th>\n",
       "      <td>116.0</td>\n",
       "      <td>04/01/2016 00:45</td>\n",
       "    </tr>\n",
       "    <tr>\n",
       "      <th>37</th>\n",
       "      <td>316.0</td>\n",
       "      <td>15/02/2016 11:09</td>\n",
       "    </tr>\n",
       "    <tr>\n",
       "      <th>38</th>\n",
       "      <td>291.0</td>\n",
       "      <td>08/03/2016 18:19</td>\n",
       "    </tr>\n",
       "    <tr>\n",
       "      <th>39</th>\n",
       "      <td>219.0</td>\n",
       "      <td>08/04/2016 12:56</td>\n",
       "    </tr>\n",
       "    <tr>\n",
       "      <th>40</th>\n",
       "      <td>148.0</td>\n",
       "      <td>14/01/2016 14:05</td>\n",
       "    </tr>\n",
       "  </tbody>\n",
       "</table>\n",
       "</div>"
      ],
      "text/plain": [
       "        0                 1\n",
       "0   157.0  17/01/2008 19:10\n",
       "1   246.0  07/02/2008 08:51\n",
       "2   309.0  28/03/2008 23:13\n",
       "3   306.0  15/04/2008 17:30\n",
       "4   202.0  01/05/2008 00:01\n",
       "5   156.0  13/06/2008 14:05\n",
       "6   153.0  07/07/2008 12:33\n",
       "7   160.0  07/08/2008 08:15\n",
       "8   144.0  14/09/2008 14:24\n",
       "9   134.0  27/10/2008 09:09\n",
       "10  135.0  28/11/2008 14:11\n",
       "11  170.0  11/12/2008 05:47\n",
       "12  177.0  26/01/2009 17:45\n",
       "13  170.0  11/02/2009 10:03\n",
       "14  150.0  04/03/2009 16:44\n",
       "15  132.0  28/04/2009 18:26\n",
       "16  128.0  12/05/2009 07:41\n",
       "17  123.0  15/06/2009 18:02\n",
       "18  119.0  17/07/2009 14:24\n",
       "19  115.0  05/08/2009 18:55\n",
       "20  182.0  07/11/2014 12:20\n",
       "21  236.0  21/12/2014 01:53\n",
       "22  140.0  22/11/2015 00:00\n",
       "23  128.0  02/12/2015 15:00\n",
       "24  188.0  05/01/2015 13:24\n",
       "28  122.0  25/05/2015 00:05\n",
       "29  113.0  06/06/2015 13:06\n",
       "36  116.0  04/01/2016 00:45\n",
       "37  316.0  15/02/2016 11:09\n",
       "38  291.0  08/03/2016 18:19\n",
       "39  219.0  08/04/2016 12:56\n",
       "40  148.0  14/01/2016 14:05"
      ]
     },
     "execution_count": 366,
     "metadata": {},
     "output_type": "execute_result"
    }
   ],
   "source": [
    "pd.DataFrame(data).dropna()"
   ]
  },
  {
   "cell_type": "code",
   "execution_count": null,
   "metadata": {
    "collapsed": true
   },
   "outputs": [],
   "source": []
  }
 ],
 "metadata": {
  "kernelspec": {
   "display_name": "Python 3",
   "language": "python",
   "name": "python3"
  },
  "language_info": {
   "codemirror_mode": {
    "name": "ipython",
    "version": 3
   },
   "file_extension": ".py",
   "mimetype": "text/x-python",
   "name": "python",
   "nbconvert_exporter": "python",
   "pygments_lexer": "ipython3",
   "version": "3.5.1"
  }
 },
 "nbformat": 4,
 "nbformat_minor": 0
}
